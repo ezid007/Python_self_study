{
 "cells": [
  {
   "cell_type": "code",
   "execution_count": 19,
   "id": "b274d32d",
   "metadata": {},
   "outputs": [
    {
     "ename": "Terminator",
     "evalue": "",
     "output_type": "error",
     "traceback": [
      "\u001b[31m---------------------------------------------------------------------------\u001b[39m",
      "\u001b[31mTerminator\u001b[39m                                Traceback (most recent call last)",
      "\u001b[36mCell\u001b[39m\u001b[36m \u001b[39m\u001b[32mIn[19]\u001b[39m\u001b[32m, line 10\u001b[39m\n\u001b[32m      8\u001b[39m screen.title(\u001b[33m\"\u001b[39m\u001b[33mU.S. States Game\u001b[39m\u001b[33m\"\u001b[39m)\n\u001b[32m      9\u001b[39m screen.addshape(IMAGE)\n\u001b[32m---> \u001b[39m\u001b[32m10\u001b[39m \u001b[43mturtle\u001b[49m\u001b[43m.\u001b[49m\u001b[43mshape\u001b[49m\u001b[43m(\u001b[49m\u001b[43mIMAGE\u001b[49m\u001b[43m)\u001b[49m\n\u001b[32m     12\u001b[39m \u001b[38;5;66;03m# def get_mouse_click_coor(x, y):\u001b[39;00m\n\u001b[32m     13\u001b[39m \u001b[38;5;66;03m#     print(x,y)\u001b[39;00m\n\u001b[32m     14\u001b[39m \n\u001b[32m     15\u001b[39m \u001b[38;5;66;03m# turtle.onscreenclick(get_mouse_click_coor)\u001b[39;00m\n\u001b[32m     16\u001b[39m \u001b[38;5;66;03m# turtle.mainloop()\u001b[39;00m\n\u001b[32m     18\u001b[39m data = pd.read_csv(STATES_50)\n",
      "\u001b[36mFile \u001b[39m\u001b[32m<string>:5\u001b[39m, in \u001b[36mshape\u001b[39m\u001b[34m(name)\u001b[39m\n",
      "\u001b[31mTerminator\u001b[39m: "
     ]
    }
   ],
   "source": [
    "import turtle\n",
    "import pandas as pd\n",
    "\n",
    "IMAGE = \"blank_states_img.gif\"\n",
    "STATES_50 = \"50_states.csv\"\n",
    "\n",
    "screen = turtle.Screen()\n",
    "screen.title(\"U.S. States Game\")\n",
    "screen.addshape(IMAGE)\n",
    "turtle.shape(IMAGE)\n",
    "\n",
    "# def get_mouse_click_coor(x, y):\n",
    "#     print(x,y)\n",
    "\n",
    "# turtle.onscreenclick(get_mouse_click_coor)\n",
    "# turtle.mainloop()\n",
    "\n",
    "data = pd.read_csv(STATES_50)\n",
    "all_states = data.state.to_list()\n",
    "\n",
    "answer_state = screen.textinput(\n",
    "    title=\"Guess the State\", prompt=\"What's another state's name?\"\n",
    ")\n",
    "\n",
    "if answer_state in all_states:\n",
    "    t = turtle.Turtle()\n",
    "    t.hideturtle()\n",
    "    t.penup()\n",
    "    state_data = data[data.state == answer_state]\n",
    "    t.goto(int(state_data.x.item()), int(state_data.y.item()))\n",
    "    t.write(state_data)\n",
    "\n",
    "\n",
    "screen.exitonclick() \n"
   ]
  },
  {
   "cell_type": "code",
   "execution_count": 18,
   "id": "40dddb6d",
   "metadata": {},
   "outputs": [],
   "source": [
    "y_list = data.y.items()"
   ]
  },
  {
   "cell_type": "code",
   "execution_count": null,
   "id": "edc26352",
   "metadata": {},
   "outputs": [],
   "source": []
  }
 ],
 "metadata": {
  "kernelspec": {
   "display_name": "Python 3",
   "language": "python",
   "name": "python3"
  },
  "language_info": {
   "codemirror_mode": {
    "name": "ipython",
    "version": 3
   },
   "file_extension": ".py",
   "mimetype": "text/x-python",
   "name": "python",
   "nbconvert_exporter": "python",
   "pygments_lexer": "ipython3",
   "version": "3.13.5"
  }
 },
 "nbformat": 4,
 "nbformat_minor": 5
}
