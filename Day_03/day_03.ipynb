{
 "cells": [
  {
   "cell_type": "code",
   "execution_count": 12,
   "id": "0cf7ba20",
   "metadata": {},
   "outputs": [],
   "source": [
    "my_dic = {\n",
    "    'Bug': 'my data', \n",
    "    'Function': 'your data',\n",
    "    }\n",
    "\n",
    "my_dic['Bug'] = 'asdf'\n",
    "\n",
    "my_dic['gg'] = 'Game over'"
   ]
  },
  {
   "cell_type": "code",
   "execution_count": 22,
   "id": "4ace05e2",
   "metadata": {},
   "outputs": [
    {
     "name": "stdout",
     "output_type": "stream",
     "text": [
      "Bug: asdf\n",
      "Function: your data\n",
      "gg: Game over\n"
     ]
    }
   ],
   "source": [
    "for i in my_dic:\n",
    "    print(f'{i}: {my_dic[i]}')\n"
   ]
  },
  {
   "cell_type": "markdown",
   "id": "abb6c6dd",
   "metadata": {},
   "source": [
    "A : 90이상\n",
    "B : 80이상\n",
    "C : 70이상\n",
    "D : 60이상\n",
    "F : 60미만"
   ]
  },
  {
   "cell_type": "code",
   "execution_count": 11,
   "id": "61a85b02",
   "metadata": {},
   "outputs": [
    {
     "data": {
      "text/plain": [
       "defaultdict(dict,\n",
       "            {'B': {'Harry': 81},\n",
       "             'C': {'Ron': 78, 'Draco': 74},\n",
       "             'A': {'Hermione': 99},\n",
       "             'D': {'Neville': 62}})"
      ]
     },
     "execution_count": 11,
     "metadata": {},
     "output_type": "execute_result"
    }
   ],
   "source": [
    "from collections import defaultdict,OrderedDict\n",
    "\n",
    "student_scores = {\n",
    "    'Harry': 81,\n",
    "    'Ron': 78,\n",
    "    'Hermione': 99,\n",
    "    'Draco': 74,\n",
    "    'Neville': 62,\n",
    "}\n",
    "\n",
    "student_grades = defaultdict(dict)\n",
    "\n",
    "for std in student_scores:\n",
    "    if student_scores[std] >= 90:\n",
    "        student_grades['A'][std] = student_scores[std]\n",
    "    elif student_scores[std] >= 80:\n",
    "        student_grades['B'][std] = student_scores[std]\n",
    "    elif student_scores[std] >= 70:\n",
    "        student_grades['C'][std] = student_scores[std]\n",
    "    elif student_scores[std] >= 60:\n",
    "        student_grades['D'][std] = student_scores[std]\n",
    "    else:\n",
    "        student_grades['F'][std] = student_scores[std]\n",
    "        \n",
    "sorted_grades = OrderedDict()\n",
    "\n",
    "for grade in sorted(student_grades.keys()):  # 등급 정렬\n",
    "    # 등급 안의 학생 이름 정렬\n",
    "    sorted_students = OrderedDict(sorted(student_grades[grade].items()))\n",
    "    sorted_grades[grade] = sorted_students\n",
    "\n",
    "student_grades"
   ]
  },
  {
   "cell_type": "code",
   "execution_count": 30,
   "id": "27e7007f",
   "metadata": {},
   "outputs": [
    {
     "name": "stdout",
     "output_type": "stream",
     "text": [
      "True\n"
     ]
    }
   ],
   "source": [
    "if 'Harry' in student_scores:\n",
    "    print(True)"
   ]
  },
  {
   "cell_type": "code",
   "execution_count": null,
   "id": "77a19869",
   "metadata": {},
   "outputs": [],
   "source": [
    "names = [\"Alice\", \"Bob\", \"Charlie\"]\n",
    "banned_names = [\"Eve\", \"Mallory\"]\n",
    "\n",
    "# 이름이 허용된 목록에만 있는지 확인\n",
    "user = \"Alice\"\n",
    "if (user in names) and (user not in banned_names):\n",
    "    print(f\"{user} is allowed.\")\n",
    "else:\n",
    "    print(f\"{user} is not allowed.\")\n"
   ]
  },
  {
   "cell_type": "code",
   "execution_count": 41,
   "id": "b00b7441",
   "metadata": {},
   "outputs": [
    {
     "name": "stdout",
     "output_type": "stream",
     "text": [
      "A greeting word is found!\n"
     ]
    }
   ],
   "source": [
    "greeting = \"Hello there Goodbye, sorry ! Farewell\"\n",
    "\n",
    "if any(word in greeting for word in [\"Hello\", \"Hi\", \"Hey\"]):\n",
    "    print(\"A greeting word is found!\")\n",
    "\n",
    "if all(word in greeting for word in [\"there!\", \"Goodbye\", \"Farewell\", \"Hello\"]):\n",
    "    print(\"No farewell words are found.\")\n"
   ]
  },
  {
   "cell_type": "code",
   "execution_count": null,
   "id": "719f5718",
   "metadata": {},
   "outputs": [],
   "source": [
    "matrix = [[1, 2, 3], [4, 5, 6], [7, 8, 9]]\n",
    "\n",
    "if any(5 in row for row in matrix):\n",
    "    print(\"The number 5 is in the matrix.\")\n",
    "\n",
    "if all(10 not in row for row in matrix):\n",
    "    print(\"The number 10 is not in the matrix.\")\n"
   ]
  },
  {
   "cell_type": "code",
   "execution_count": 42,
   "id": "adb6df31",
   "metadata": {},
   "outputs": [
    {
     "name": "stdout",
     "output_type": "stream",
     "text": [
      "5가 1개 이상 들어있음.\n"
     ]
    }
   ],
   "source": [
    "matrix = [[1, 2, 3], [4, 5, 6], [7, 8, 9]]\n",
    "\n",
    "if any(5 in i for i in matrix):\n",
    "    print('5가 1개 이상 들어있음.')\n"
   ]
  },
  {
   "cell_type": "code",
   "execution_count": 43,
   "id": "e0d09462",
   "metadata": {},
   "outputs": [
    {
     "name": "stdout",
     "output_type": "stream",
     "text": [
      "0이 포함되지 않았습니다.\n"
     ]
    }
   ],
   "source": [
    "if all(0 not in x for x in matrix):\n",
    "    print('0이 포함되지 않았습니다.')"
   ]
  },
  {
   "cell_type": "code",
   "execution_count": null,
   "id": "6c656af3",
   "metadata": {},
   "outputs": [
    {
     "name": "stdout",
     "output_type": "stream",
     "text": [
      "Asdf Gjkl\n"
     ]
    }
   ],
   "source": [
    "def format_name(f_name, l_name):\n",
    "    formated_f_name = f_name.title()\n",
    "    formated_l_name = l_name.title()\n",
    "    \n",
    "    print(f'{formated_f_name} {formated_l_name}')\n",
    "\n",
    "format_name(input('your first name? '), input('your last name? '))"
   ]
  },
  {
   "cell_type": "code",
   "execution_count": 16,
   "id": "fc870865",
   "metadata": {},
   "outputs": [
    {
     "name": "stdout",
     "output_type": "stream",
     "text": [
      "result: Asdf Saf\n"
     ]
    }
   ],
   "source": [
    "def format_name(f_name, l_name):\n",
    "    formated_f_name = f_name.title()\n",
    "    formated_l_name = l_name.title()\n",
    "    \n",
    "    return f\"result: {formated_f_name} {formated_l_name}\"\n",
    "\n",
    "print(format_name(input('your first name? '), input('your last name? ')))"
   ]
  }
 ],
 "metadata": {
  "kernelspec": {
   "display_name": "Python 3",
   "language": "python",
   "name": "python3"
  },
  "language_info": {
   "codemirror_mode": {
    "name": "ipython",
    "version": 3
   },
   "file_extension": ".py",
   "mimetype": "text/x-python",
   "name": "python",
   "nbconvert_exporter": "python",
   "pygments_lexer": "ipython3",
   "version": "3.13.3"
  }
 },
 "nbformat": 4,
 "nbformat_minor": 5
}
