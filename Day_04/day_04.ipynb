{
 "cells": [
  {
   "cell_type": "code",
   "execution_count": null,
   "id": "99c8369b",
   "metadata": {},
   "outputs": [
    {
     "ename": "TypeError",
     "evalue": "'int' object is not callable",
     "output_type": "error",
     "traceback": [
      "\u001b[31m---------------------------------------------------------------------------\u001b[39m",
      "\u001b[31mTypeError\u001b[39m                                 Traceback (most recent call last)",
      "\u001b[36mCell\u001b[39m\u001b[36m \u001b[39m\u001b[32mIn[15]\u001b[39m\u001b[32m, line 22\u001b[39m\n\u001b[32m     19\u001b[39m result = calculater(devision, \u001b[32m4\u001b[39m, \u001b[32m4\u001b[39m)\n\u001b[32m     21\u001b[39m mii = add(\u001b[32m1\u001b[39m,\u001b[32m2\u001b[39m)\n\u001b[32m---> \u001b[39m\u001b[32m22\u001b[39m \u001b[38;5;28mprint\u001b[39m(\u001b[43mmii\u001b[49m\u001b[43m(\u001b[49m\u001b[32;43m1\u001b[39;49m\u001b[43m,\u001b[49m\u001b[32;43m2\u001b[39;49m\u001b[43m)\u001b[49m)\n",
      "\u001b[31mTypeError\u001b[39m: 'int' object is not callable"
     ]
    }
   ],
   "source": [
    "def calculater(operation, a, b):\n",
    "    return operation(a, b)\n",
    "\n",
    "def add(a, b):\n",
    "    return a+b\n",
    "\n",
    "def subtraction(a,b):\n",
    "    return a-b\n",
    "\n",
    "def multi(a, b):\n",
    "    return a*b\n",
    "\n",
    "def devision(a, b):\n",
    "    if not b == 0:\n",
    "        return a/b\n",
    "    else:\n",
    "        print('나눌 수 없습니다.')\n",
    "\n",
    "result = calculater(devision, 4, 4)\n",
    "\n",
    "mii = add\n",
    "print(mii(1,2))\n"
   ]
  },
  {
   "cell_type": "code",
   "execution_count": null,
   "id": "d5b04b32",
   "metadata": {},
   "outputs": [
    {
     "name": "stdout",
     "output_type": "stream",
     "text": [
      "<function apply_operation.<locals>.<lambda> at 0x00000161EB2639C0>\n",
      "15\n",
      "5\n"
     ]
    }
   ],
   "source": [
    "def apply_operation(condition, x, y):\n",
    "    if condition == \"add\":\n",
    "        return lambda x, y: x + y\n",
    "    elif condition == \"subtract\":\n",
    "        return lambda x, y: x - y\n",
    "    else:\n",
    "        return lambda x, y: 0 \n",
    "\n",
    "x = 10\n",
    "y = 5\n",
    "\n",
    "operation = apply_operation(\"add\", x, y)\n",
    "print(operation)\n",
    "result = operation(10, 5)\n",
    "print(result)\n",
    "\n",
    "operation = apply_operation(\"subtract\", x, y)\n",
    "result = operation(10, 5)\n",
    "print(result)\n"
   ]
  },
  {
   "cell_type": "code",
   "execution_count": null,
   "id": "b03f5c51",
   "metadata": {},
   "outputs": [
    {
     "name": "stdout",
     "output_type": "stream",
     "text": [
      "\n",
      "           T                                    \\`.    T\n",
      "       |    T     .--------------.___________) \\   |    T\n",
      "       !    |     |//////////////|___________[ ]   !  T |\n",
      "            !     `--------------'           ) (      | !\n",
      "                                         mn  '-'      !\n",
      "    \n",
      "None\n"
     ]
    }
   ],
   "source": [
    "from replit import clear\n",
    "from art import logo\n",
    "\n",
    "print(logo())\n",
    "\n",
    "bids = {}\n",
    "bidding_finished = False\n",
    "\n",
    "while not bidding_finished:\n",
    "    name = input(\"What is your name?\")\n",
    "    price =  input(\"What is your bid? $\")\n",
    "    bids[name] = price\n",
    "    next = input(\"end? [y/n]\")\n",
    "    if next == 'y':\n",
    "        bidding_finished = True\n",
    "    else:\n",
    "        \n",
    "        continue\n",
    "\n",
    "\n",
    "\n",
    "\n",
    "\n"
   ]
  },
  {
   "cell_type": "code",
   "execution_count": null,
   "id": "1e2608ec",
   "metadata": {},
   "outputs": [],
   "source": [
    "my_list = [1, 2, 3]\n",
    "iterator = iter(my_list)\n"
   ]
  }
 ],
 "metadata": {
  "kernelspec": {
   "display_name": "Python 3",
   "language": "python",
   "name": "python3"
  },
  "language_info": {
   "codemirror_mode": {
    "name": "ipython",
    "version": 3
   },
   "file_extension": ".py",
   "mimetype": "text/x-python",
   "name": "python",
   "nbconvert_exporter": "python",
   "pygments_lexer": "ipython3",
   "version": "3.13.3"
  }
 },
 "nbformat": 4,
 "nbformat_minor": 5
}
