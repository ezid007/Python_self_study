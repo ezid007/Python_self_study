{
 "cells": [
  {
   "cell_type": "code",
   "execution_count": 11,
   "id": "a8f7d7f7",
   "metadata": {},
   "outputs": [
    {
     "data": {
      "text/html": [
       "<pre style=\"white-space:pre;overflow-x:auto;line-height:normal;font-family:Menlo,'DejaVu Sans Mono',consolas,'Courier New',monospace\"><span style=\"color: #008080; text-decoration-color: #008080; font-weight: bold\">24</span>\n",
       "</pre>\n"
      ],
      "text/plain": [
       "\u001b[1;36m24\u001b[0m\n"
      ]
     },
     "metadata": {},
     "output_type": "display_data"
    }
   ],
   "source": [
    "import pandas as pd\n",
    "import os\n",
    "\n",
    "os.system('cls')\n",
    "\n",
    "WEATHER_DATA_CSV = 'weather_data.csv'\n",
    "\n",
    "weather_data = [\n",
    "    ['day', 'temp', 'condition','냐하'],\n",
    "    ['Monday', 12, 'Sunny','마마'],\n",
    "    ['Tuesday', 14, 'Rain','마마'],\n",
    "    ['Wednesday', 15, 'Rain','마마'],\n",
    "    ['Thursday', 24, 'Cloudy','마마'],\n",
    "    ['Friday', 21, 'Sunny','마마'],\n",
    "    ['Saturday', 22, 'Sunny','마마'],\n",
    "    ['Sunday', 24, 'Sunny','마마']\n",
    "]\n",
    "\n",
    "weather_data_pd = pd.DataFrame(weather_data[1:], columns=weather_data[0])\n",
    "\n",
    "weather_data_pd.set_index('day', inplace=True)\n",
    "\n",
    "weather_data_pd.to_csv(WEATHER_DATA_CSV, encoding='utf-8-sig')\n",
    "\n",
    "PD_W_DATA = pd.read_csv(WEATHER_DATA_CSV)\n",
    "\n",
    "temp_list = PD_W_DATA[\"temp\"].to_list()\n",
    "\n",
    "print(max(temp_list))\n"
   ]
  },
  {
   "cell_type": "code",
   "execution_count": 12,
   "id": "5a1de88d",
   "metadata": {},
   "outputs": [
    {
     "data": {
      "text/html": [
       "<pre style=\"white-space:pre;overflow-x:auto;line-height:normal;font-family:Menlo,'DejaVu Sans Mono',consolas,'Courier New',monospace\">최고 기온: <span style=\"color: #008080; text-decoration-color: #008080; font-weight: bold\">24</span>\n",
       "</pre>\n"
      ],
      "text/plain": [
       "최고 기온: \u001b[1;36m24\u001b[0m\n"
      ]
     },
     "metadata": {},
     "output_type": "display_data"
    },
    {
     "data": {
      "text/html": [
       "<pre style=\"white-space:pre;overflow-x:auto;line-height:normal;font-family:Menlo,'DejaVu Sans Mono',consolas,'Courier New',monospace\">최고 기온이었던 날의 정보: <span style=\"font-weight: bold\">[[</span><span style=\"color: #008000; text-decoration-color: #008000\">'Thursday'</span>, <span style=\"color: #008080; text-decoration-color: #008080; font-weight: bold\">24</span>, <span style=\"color: #008000; text-decoration-color: #008000\">'Cloudy'</span>, <span style=\"color: #008000; text-decoration-color: #008000\">'마마'</span><span style=\"font-weight: bold\">]</span>, <span style=\"font-weight: bold\">[</span><span style=\"color: #008000; text-decoration-color: #008000\">'Sunday'</span>, <span style=\"color: #008080; text-decoration-color: #008080; font-weight: bold\">24</span>, <span style=\"color: #008000; text-decoration-color: #008000\">'Sunny'</span>, <span style=\"color: #008000; text-decoration-color: #008000\">'마마'</span><span style=\"font-weight: bold\">]]</span>\n",
       "</pre>\n"
      ],
      "text/plain": [
       "최고 기온이었던 날의 정보: \u001b[1m[\u001b[0m\u001b[1m[\u001b[0m\u001b[32m'Thursday'\u001b[0m, \u001b[1;36m24\u001b[0m, \u001b[32m'Cloudy'\u001b[0m, \u001b[32m'마마'\u001b[0m\u001b[1m]\u001b[0m, \u001b[1m[\u001b[0m\u001b[32m'Sunday'\u001b[0m, \u001b[1;36m24\u001b[0m, \u001b[32m'Sunny'\u001b[0m, \u001b[32m'마마'\u001b[0m\u001b[1m]\u001b[0m\u001b[1m]\u001b[0m\n"
      ]
     },
     "metadata": {},
     "output_type": "display_data"
    }
   ],
   "source": [
    "# ... (weather_data 리스트 정의) ...\n",
    "\n",
    "# 1단계: 리스트 컴프리헨션으로 최고 기온 찾기\n",
    "max_temp = max([row[1] for row in weather_data[1:]])\n",
    "\n",
    "# 2단계: 리스트 컴프리헨션으로 최고 기온인 날 찾기\n",
    "days_with_max_temp = [row for row in weather_data if row[1] == max_temp]\n",
    "\n",
    "print(f\"최고 기온: {max_temp}\")\n",
    "print(f\"최고 기온이었던 날의 정보: {days_with_max_temp}\")"
   ]
  },
  {
   "cell_type": "code",
   "execution_count": 14,
   "id": "fbd5452d",
   "metadata": {},
   "outputs": [
    {
     "data": {
      "text/plain": [
       "['Thursday', 24, 'Cloudy', '마마']"
      ]
     },
     "execution_count": 14,
     "metadata": {},
     "output_type": "execute_result"
    }
   ],
   "source": [
    "single_result = days_with_max_temp[0]\n",
    "single_result"
   ]
  },
  {
   "cell_type": "code",
   "execution_count": null,
   "id": "0f193e02",
   "metadata": {},
   "outputs": [],
   "source": []
  }
 ],
 "metadata": {
  "kernelspec": {
   "display_name": ".venv",
   "language": "python",
   "name": "python3"
  },
  "language_info": {
   "codemirror_mode": {
    "name": "ipython",
    "version": 3
   },
   "file_extension": ".py",
   "mimetype": "text/x-python",
   "name": "python",
   "nbconvert_exporter": "python",
   "pygments_lexer": "ipython3",
   "version": "3.10.11"
  }
 },
 "nbformat": 4,
 "nbformat_minor": 5
}
