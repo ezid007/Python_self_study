{
 "cells": [
  {
   "cell_type": "code",
   "execution_count": 1,
   "id": "1d8a1e58",
   "metadata": {},
   "outputs": [
    {
     "data": {
      "text/plain": [
       "3"
      ]
     },
     "execution_count": 1,
     "metadata": {},
     "output_type": "execute_result"
    }
   ],
   "source": [
    "two_digit_number = '32'\n",
    "\n",
    "first_digit = int(two_digit_number[0])\n",
    "second_digit = int(two_digit_number[1])\n",
    "\n",
    "first_digit"
   ]
  },
  {
   "cell_type": "code",
   "execution_count": 2,
   "id": "e88aba84",
   "metadata": {},
   "outputs": [
    {
     "data": {
      "text/plain": [
       "2"
      ]
     },
     "execution_count": 2,
     "metadata": {},
     "output_type": "execute_result"
    }
   ],
   "source": [
    "second_digit"
   ]
  },
  {
   "cell_type": "code",
   "execution_count": null,
   "id": "1f17ce2e",
   "metadata": {},
   "outputs": [],
   "source": [
    "3+3*3/3-3"
   ]
  },
  {
   "cell_type": "code",
   "execution_count": null,
   "id": "4bfae4e1",
   "metadata": {},
   "outputs": [],
   "source": [
    "height = 180\n",
    "weight = 66\n",
    "\n",
    "bmi = weight / height**2\n",
    "bmi"
   ]
  },
  {
   "cell_type": "code",
   "execution_count": 10,
   "id": "684b93f9",
   "metadata": {},
   "outputs": [
    {
     "name": "stdout",
     "output_type": "stream",
     "text": [
      "3\n",
      "2.6666666666666665\n",
      "2\n",
      "2\n"
     ]
    }
   ],
   "source": [
    "print(round(8/3))\n",
    "print(8/3)\n",
    "print(8//3)\n",
    "print(round(8//3))\n"
   ]
  },
  {
   "cell_type": "code",
   "execution_count": null,
   "id": "eeb1d2ee",
   "metadata": {},
   "outputs": [],
   "source": [
    "a= 32.30\n",
    "\n",
    "print(f\"{a:.2f}\")"
   ]
  },
  {
   "cell_type": "code",
   "execution_count": null,
   "id": "521b7571",
   "metadata": {},
   "outputs": [],
   "source": [
    "height = 120\n",
    "age = 55\n",
    "bill = 0\n",
    "\n",
    "if height >= 120:\n",
    "    print('right')\n",
    "    if age < 12:\n",
    "        bill += 5\n",
    "    elif 12 <= age <= 18:\n",
    "        bill += 7\n",
    "    elif 45 <= age <= 55:\n",
    "        bill += 0\n",
    "    else:\n",
    "        bill += 12    \n",
    "    \n",
    "    poto = input('want photos? [y/n]')\n",
    "    if poto == 'y':\n",
    "       bill += 3\n",
    "       print(f\"요금은 {bill}$ 입니다.\")\n",
    "    else:\n",
    "       print(f\"요금은 {bill}$ 입니다.\")\n",
    "        \n",
    "else:\n",
    "    print(\"you don't \")"
   ]
  },
  {
   "cell_type": "code",
   "execution_count": null,
   "id": "ee88022c",
   "metadata": {},
   "outputs": [],
   "source": [
    "year = 1000\n",
    "\n",
    "if year % 4 == 0:\n",
    "    if year % 100 == 0:\n",
    "        if year % 400 == 0:\n",
    "            print('Leap year')\n",
    "        else:\n",
    "            print('Not leap year')\n",
    "    else:        \n",
    "        print('leap year')\n",
    "else:\n",
    "    print('Not leap year')\n"
   ]
  },
  {
   "cell_type": "code",
   "execution_count": null,
   "id": "23b8350d",
   "metadata": {},
   "outputs": [],
   "source": [
    "name1 = 'Tsdfdev erw'\n",
    "\n",
    "name2 = 'DDSSE asdfqer'\n",
    "\n",
    "combined_names = name1 + name2\n",
    "\n",
    "lower_name = combined_names.lower()\n",
    "\n",
    "t = lower_name.count('t')\n",
    "r = lower_name.count('r')\n",
    "u = lower_name.count('u')\n",
    "e = lower_name.count('e')\n",
    "first_digit = t+r+u+e\n",
    "\n",
    "l = lower_name.count('l')\n",
    "o = lower_name.count('o')\n",
    "v = lower_name.count('v')\n",
    "e = lower_name.count('e')\n",
    "second_digit = l+o+v+e\n",
    "\n",
    "score = str(first_digit) + str(second_digit)\n"
   ]
  },
  {
   "cell_type": "code",
   "execution_count": null,
   "id": "b0ac2e3b",
   "metadata": {},
   "outputs": [],
   "source": [
    "print('''\n",
    "*******************************************************************************\n",
    "          |                   |                  |                     |\n",
    " _________|________________.=\"\"_;=.______________|_____________________|_______\n",
    "|                   |  ,-\"_,=\"\"     `\"=.|                  |\n",
    "|___________________|__\"=._o`\"-._        `\"=.______________|___________________\n",
    "          |                `\"=._o`\"=._      _`\"=._                     |\n",
    " _________|_____________________:=._o \"=._.\"_.-=\"'\"=.__________________|_______\n",
    "|                   |    __.--\" , ; `\"=._o.\" ,-\"\"\"-._ \".   |\n",
    "|___________________|_._\"  ,. .` ` `` ,  `\"-._\"-._   \". '__|___________________\n",
    "          |           |o`\"=._` , \"` `; .\". ,  \"-._\"-._; ;              |\n",
    " _________|___________| ;`-.o`\"=._; .\" ` '`.\"\\` . \"-._ /_______________|_______\n",
    "|                   | |o;    `\"-.o`\"=._``  '` \" ,__.--o;   |\n",
    "|___________________|_| ;     (#) `-.o `\"=.`_.--\"_o.-; ;___|___________________\n",
    "____/______/______/___|o;._    \"      `\".o|o_.--\"    ;o;____/______/______/____\n",
    "/______/______/______/_\"=._o--._        ; | ;        ; ;/______/______/______/_\n",
    "____/______/______/______/__\"=._o--._   ;o|o;     _._;o;____/______/______/____\n",
    "/______/______/______/______/____\"=._o._; | ;_.--\"o.--\"_/______/______/______/_\n",
    "____/______/______/______/______/_____\"=.o|o_.--\"\"___/______/______/______/____\n",
    "/______/______/______/______/______/______/______/______/______/______/[TomekK]\n",
    "*******************************************************************************\n",
    "''')"
   ]
  },
  {
   "cell_type": "code",
   "execution_count": null,
   "id": "0b3aa116",
   "metadata": {},
   "outputs": [],
   "source": [
    "print('dheldk \\'is\\' good ')"
   ]
  },
  {
   "cell_type": "code",
   "execution_count": null,
   "id": "14c63e28",
   "metadata": {},
   "outputs": [],
   "source": [
    "import random\n",
    "\n",
    "my_random = [random.randint(0,1) for i in range(20)]\n",
    "\n",
    "# for i in range(10):\n",
    "#     my_random.append(random.randint(0,1)) \n",
    "   \n",
    "my_random_len = len(my_random)\n",
    "\n",
    "my_random[my_random_len-1]"
   ]
  },
  {
   "cell_type": "code",
   "execution_count": null,
   "id": "a5418544",
   "metadata": {},
   "outputs": [],
   "source": [
    "random_float = random.random()\n",
    "\n",
    "random_float * 5"
   ]
  },
  {
   "cell_type": "code",
   "execution_count": null,
   "id": "2ff7f96f",
   "metadata": {},
   "outputs": [],
   "source": [
    "line1 = ['■','■','■',]\n",
    "line2 = ['■','■','■',]\n",
    "line3 = ['■','■','■',]\n",
    "\n",
    "map = [line1, line2, line3]\n",
    "\n",
    "print('Hiding your treasure! X marks the spot.')\n",
    "position = 'B3'\n",
    "\n",
    "letter = position[0].lower()\n",
    "abc = ['a', 'b', 'c']\n",
    "letter_index = abc.index(letter)\n",
    "number_index = int(position[1]) -1\n",
    "map[number_index][letter_index] = 'X'\n",
    "\n",
    "print(f'{line1}\\n{line2}\\n{line3}')\n"
   ]
  },
  {
   "cell_type": "code",
   "execution_count": 71,
   "id": "7e85ee45",
   "metadata": {},
   "outputs": [
    {
     "name": "stdout",
     "output_type": "stream",
     "text": [
      "\n",
      "     _______\n",
      "----'   ____)____\n",
      "          ______)\n",
      "          _______)\n",
      "         _______)\n",
      "----.__________)\n",
      "\n",
      "\n",
      "player\n",
      "\n",
      "     _______\n",
      "----'   ____)____\n",
      "          ______)\n",
      "          _______)\n",
      "         _______)\n",
      "----.__________)\n",
      "\n",
      "\n",
      "computer\n",
      "비겼습니다.\n"
     ]
    }
   ],
   "source": [
    "import random\n",
    "\n",
    "scissors = '''\n",
    "     _______\n",
    "----'   ____)____\n",
    "          ______)\n",
    "       __________)\n",
    "      (____)\n",
    "----.___\n",
    "\n",
    "'''\n",
    "\n",
    "rock = '''\n",
    "     _______\n",
    "----'   ____)\n",
    "      (_____)\n",
    "      (_____)\n",
    "      (____)\n",
    "----.___\n",
    "\n",
    "'''\n",
    "\n",
    "paper = '''\n",
    "     _______\n",
    "----'   ____)____\n",
    "          ______)\n",
    "          _______)\n",
    "         _______)\n",
    "----.__________)\n",
    "\n",
    "'''\n",
    "\n",
    "all_list = [scissors,rock,paper]\n",
    "\n",
    "player = int(input('당신이 낼것을 입력하시오.(0:가위,1:바위,2:보)'))\n",
    "computer = random.randint(0,2)\n",
    "print(all_list[player])\n",
    "print('player')\n",
    "print(all_list[computer])\n",
    "print('computer')\n",
    "\n",
    "if player == 0 and computer == 1:\n",
    "    print('computer win')\n",
    "\n",
    "elif player == 0 and computer == 2:\n",
    "    print('player win')\n",
    "\n",
    "elif player == 1 and computer == 0:\n",
    "    print('player win')\n",
    "\n",
    "elif player == 1 and computer == 2:\n",
    "    print('computer win')\n",
    "\n",
    "elif player == 2 and computer == 0:\n",
    "    print('computer win')\n",
    "    \n",
    "elif player == 2 and computer == 1:\n",
    "    print('player win')\n",
    "else:\n",
    "    print('비겼습니다.')\n"
   ]
  },
  {
   "cell_type": "code",
   "execution_count": null,
   "id": "0aa04289",
   "metadata": {},
   "outputs": [
    {
     "name": "stdout",
     "output_type": "stream",
     "text": [
      "apple\n",
      "apple Pie\n",
      "peach\n",
      "peach Pie\n",
      "pear\n",
      "pear Pie\n"
     ]
    }
   ],
   "source": [
    "fruits = ['apple', 'peach', 'pear']\n",
    "\n",
    "for fruit in fruits:\n",
    "    print(fruit)\n",
    "    print(fruit + ' Pie')  \n"
   ]
  },
  {
   "cell_type": "code",
   "execution_count": null,
   "id": "672fd4dc",
   "metadata": {},
   "outputs": [
    {
     "name": "stdout",
     "output_type": "stream",
     "text": [
      "158.33\n"
     ]
    }
   ],
   "source": [
    "student_heights = ['151', '145', '179']\n",
    "# student_heights = input().split() 인풋을 받아서 공백을 기준으로 나눌 때 사용. split('.') 나눌 기준은 다른 것으로 바꾸는게 가능하다.\n",
    "\n",
    "\n",
    "total = 0\n",
    "average = 0\n",
    "\n",
    "for n in range(0, len(student_heights)):\n",
    "    student_heights[n] = int(student_heights[n])\n",
    "\n",
    "for i, height in enumerate(student_heights):\n",
    "    student_heights[i] = int(height)\n",
    "    total += int(height)\n",
    "\n",
    "average = total / len(student_heights)\n",
    "  \n",
    "print(f'{average:.2f}')"
   ]
  },
  {
   "cell_type": "code",
   "execution_count": 1,
   "id": "7a311d79",
   "metadata": {},
   "outputs": [
    {
     "data": {
      "text/plain": [
       "2550"
      ]
     },
     "execution_count": 1,
     "metadata": {},
     "output_type": "execute_result"
    }
   ],
   "source": [
    "\n",
    "total = 0\n",
    "for i in range(2, 101, 2):\n",
    "    total += i\n",
    "        \n",
    "total\n",
    "        \n",
    "        \n"
   ]
  }
 ],
 "metadata": {
  "kernelspec": {
   "display_name": "Python 3",
   "language": "python",
   "name": "python3"
  },
  "language_info": {
   "codemirror_mode": {
    "name": "ipython",
    "version": 3
   },
   "file_extension": ".py",
   "mimetype": "text/x-python",
   "name": "python",
   "nbconvert_exporter": "python",
   "pygments_lexer": "ipython3",
   "version": "3.13.3"
  }
 },
 "nbformat": 4,
 "nbformat_minor": 5
}
