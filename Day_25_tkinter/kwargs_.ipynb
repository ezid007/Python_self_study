{
 "cells": [
  {
   "cell_type": "code",
   "execution_count": 5,
   "id": "82a30e9a",
   "metadata": {},
   "outputs": [
    {
     "name": "stdout",
     "output_type": "stream",
     "text": [
      "{'_3': 3, 'b': 4}\n"
     ]
    }
   ],
   "source": [
    "def calculate(**kwargs):\n",
    "    print(kwargs)\n",
    "    \n",
    "calculate(_3=3, b=4)"
   ]
  },
  {
   "cell_type": "code",
   "execution_count": null,
   "id": "49950274",
   "metadata": {},
   "outputs": [
    {
     "name": "stdout",
     "output_type": "stream",
     "text": [
      "{'category': '전자기기', 'items': [10, 20, 30], 'user_info': {'name': '김철수', 'level': 5}}\n",
      "\n",
      "전달된 아이템 목록:\n",
      "10\n",
      "20\n",
      "30\n",
      "name: 김철수\n",
      "level: 5\n"
     ]
    }
   ],
   "source": [
    "from typing import Union\n",
    "\n",
    "def process_data(**kwargs):\n",
    "    \"\"\"전달받은 키워드 인자들을 출력하는 함수\"\"\"\n",
    "    print(kwargs)\n",
    "\n",
    "    \"\"\"'items' 키에 해당하는 리스트를 순회하며 출력\"\"\"\n",
    "    if 'items' in kwargs:\n",
    "        print(\"\\n전달된 아이템 목록:\")\n",
    "        for item in kwargs['items']:\n",
    "            print(item)\n",
    "    \n",
    "    if 'user_info' in kwargs:\n",
    "        for i , j in kwargs['user_info'].items():\n",
    "            print(f'{i}: {j}')\n",
    "\n",
    "\n",
    "\"\"\"\n",
    "'category' 키에는 문자열을,\n",
    "'items' 키에는 리스트를,\n",
    "'user_info' 키에는 딕셔너리를 값으로 전달합니다.\n",
    "\"\"\"\n",
    "process_data(\n",
    "    category=\"전자기기\",\n",
    "    items=[10, 20, 30],\n",
    "    user_info={'name': '김철수', 'level': 5}\n",
    ")"
   ]
  },
  {
   "cell_type": "code",
   "execution_count": null,
   "id": "57d34b0f",
   "metadata": {},
   "outputs": [
    {
     "name": "stdout",
     "output_type": "stream",
     "text": [
      "함수 greet 실행 시작...\n",
      "함수 greet 실행 완료.\n"
     ]
    }
   ],
   "source": [
    "def logging_decorator(func):\n",
    "    \"\"\"함수의 시작과 끝을 로깅하는 데코레이터\"\"\"\n",
    "    def wrapper(*args, **kwargs):\n",
    "        print(f\"함수 {func.__name__} 실행 시작...\")\n",
    "        result = func(*args, **kwargs) # 받은 인자 그대로 전달\n",
    "        print(f\"함수 {func.__name__} 실행 완료.\")\n",
    "        return print(result)\n",
    "    return wrapper\n",
    "\n",
    "@logging_decorator\n",
    "def greet(name, greeting=\"Hello\"):\n",
    "    \"\"\"인사말을 출력하는 함수\"\"\"\n",
    "    print(f\"{greeting}, {name}!\")\n",
    "    return f\"greet 함수 끝\"\n",
    "\n",
    "greet(name=\"철수\", greeting=\"안녕\")"
   ]
  },
  {
   "cell_type": "code",
   "execution_count": null,
   "id": "960e4ed1",
   "metadata": {},
   "outputs": [
    {
     "name": "stdout",
     "output_type": "stream",
     "text": [
      "관리자 확인! 함수를 실행합니다.\n",
      "test_user 사용자를 삭제했습니다.\n"
     ]
    }
   ],
   "source": [
    "def check_if_admin(func):\n",
    "    \"\"\"사용자가 관리자인지 확인하고, 관리자일 때만 함수를 실행하는 데코레이터\"\"\"\n",
    "    def wrapper(*args, **kwargs):\n",
    "        \"\"\"\n",
    "        실제 애플리케이션에서는 여기서 사용자의 권한을 확인합니다.\n",
    "        is_admin = get_user_role() == 'admin'\n",
    "        \"\"\"\n",
    "        is_admin = True # 예시를 위해 True로 설정\n",
    "\n",
    "        if is_admin:\n",
    "            print(\"관리자 확인! 함수를 실행합니다.\")\n",
    "            return func(*args, **kwargs) # 조건이 맞으면 원본 함수 실행\n",
    "        else:\n",
    "            print(\"경고: 관리자만 접근할 수 있습니다.\")\n",
    "            return None # 조건이 안 맞으면 원본 함수를 무시하고 종료\n",
    "    return wrapper\n",
    "\n",
    "@check_if_admin\n",
    "def delete_user(user_id):\n",
    "    \"\"\"사용자를 삭제하는 민감한 함수\"\"\"\n",
    "    print(f\"{user_id} 사용자를 삭제했습니다.\")\n",
    "\n",
    "delete_user(\"test_user\")"
   ]
  },
  {
   "cell_type": "code",
   "execution_count": 8,
   "id": "ee46db8e",
   "metadata": {},
   "outputs": [
    {
     "name": "stdout",
     "output_type": "stream",
     "text": [
      "'https://www.google.com' 가져오기 시작...\n",
      "'https://www.google.com' 가져오기 완료.\n",
      "'https://www.apple.com' 가져오기 시작...\n",
      "'https://www.apple.com' 가져오기 완료.\n",
      "\n",
      "총 소요 시간: 0.33초\n"
     ]
    }
   ],
   "source": [
    "import time\n",
    "import requests\n",
    "\n",
    "def fetch(url):\n",
    "    \"\"\"주어진 URL의 내용을 가져오는 함수\"\"\"\n",
    "    print(f\"'{url}' 가져오기 시작...\")\n",
    "    response = requests.get(url)\n",
    "    print(f\"'{url}' 가져오기 완료.\")\n",
    "    return len(response.text)\n",
    "\n",
    "def main():\n",
    "    \"\"\"동기적으로 두 개의 URL을 처리하는 메인 함수\"\"\"\n",
    "    start_time = time.time()\n",
    "    \n",
    "    content1 = fetch(\"https://www.google.com\")\n",
    "    content2 = fetch(\"https://www.apple.com\")\n",
    "    \n",
    "    end_time = time.time()\n",
    "    print(f\"\\n총 소요 시간: {end_time - start_time:.2f}초\")\n",
    "\n",
    "main()"
   ]
  },
  {
   "cell_type": "code",
   "execution_count": 9,
   "id": "b197688f",
   "metadata": {},
   "outputs": [
    {
     "name": "stdout",
     "output_type": "stream",
     "text": [
      "'https://www.google.com' 가져오기 시작...\n",
      "'https://www.apple.com' 가져오기 시작...\n",
      "'https://www.apple.com' 가져오기 완료.\n",
      "'https://www.google.com' 가져오기 완료.\n",
      "\n",
      "총 소요 시간: 0.30초\n"
     ]
    }
   ],
   "source": [
    "import time\n",
    "import asyncio\n",
    "import aiohttp\n",
    "\n",
    "async def fetch(session, url):\n",
    "    \"\"\"비동기적으로 주어진 URL의 내용을 가져오는 코루틴\"\"\"\n",
    "    print(f\"'{url}' 가져오기 시작...\")\n",
    "    async with session.get(url) as response:\n",
    "        content = await response.text()\n",
    "        print(f\"'{url}' 가져오기 완료.\")\n",
    "        return len(content)\n",
    "\n",
    "async def main():\n",
    "    \"\"\"비동기적으로 두 개의 URL을 동시에 처리하는 메인 코루틴\"\"\"\n",
    "    start_time = time.time()\n",
    "    \n",
    "    async with aiohttp.ClientSession() as session:\n",
    "        # 두 개의 작업을 동시에 실행하도록 예약\n",
    "        tasks = [\n",
    "            fetch(session, \"https://www.google.com\"),\n",
    "            fetch(session, \"https://www.apple.com\")\n",
    "        ]\n",
    "        # 예약된 모든 작업이 끝날 때까지 기다림\n",
    "        await asyncio.gather(*tasks)\n",
    "        \n",
    "    end_time = time.time()\n",
    "    print(f\"\\n총 소요 시간: {end_time - start_time:.2f}초\")\n",
    "\n",
    "# asyncio 이벤트 루프를 실행하여 메인 코루틴을 시작\n",
    "await main()"
   ]
  },
  {
   "cell_type": "code",
   "execution_count": null,
   "id": "2f316c37",
   "metadata": {},
   "outputs": [
    {
     "name": "stdout",
     "output_type": "stream",
     "text": [
      "Nissan\n"
     ]
    }
   ],
   "source": [
    "class Car:\n",
    "    def __init__(self, **kw) -> None:\n",
    "        self.make = kw[\"make\"]\n",
    "        self.model = kw.get(\"model\")\n",
    "        \n",
    "my_car = Car(make=\"Nissan\", model=\"GT-R\")\n",
    "\n",
    "print(my_car.make)"
   ]
  },
  {
   "cell_type": "code",
   "execution_count": null,
   "id": "615a61ea",
   "metadata": {},
   "outputs": [],
   "source": []
  }
 ],
 "metadata": {
  "kernelspec": {
   "display_name": "Python 3",
   "language": "python",
   "name": "python3"
  },
  "language_info": {
   "codemirror_mode": {
    "name": "ipython",
    "version": 3
   },
   "file_extension": ".py",
   "mimetype": "text/x-python",
   "name": "python",
   "nbconvert_exporter": "python",
   "pygments_lexer": "ipython3",
   "version": "3.13.5"
  }
 },
 "nbformat": 4,
 "nbformat_minor": 5
}
