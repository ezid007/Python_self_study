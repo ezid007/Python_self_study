{
 "cells": [
  {
   "cell_type": "code",
   "execution_count": null,
   "id": "107dbc0b",
   "metadata": {},
   "outputs": [
    {
     "name": "stdout",
     "output_type": "stream",
     "text": [
      "a\n"
     ]
    }
   ],
   "source": [
    "game_level = 3\n",
    "\n",
    "\n",
    "\n",
    "enemies = ['a', 'b', 'c']\n",
    "def create_enemy(new_enemy):\n",
    "    if game_level < 5:\n",
    "        new_enemy = enemies[0]\n",
    "    return new_enemy\n",
    "\n",
    "n = 0\n",
    "\n",
    "print(create_enemy(n))"
   ]
  },
  {
   "cell_type": "code",
   "execution_count": null,
   "id": "750129a3",
   "metadata": {},
   "outputs": [
    {
     "name": "stdout",
     "output_type": "stream",
     "text": [
      "enemies inside function: 2\n",
      "enemies outside function: 2\n"
     ]
    }
   ],
   "source": [
    "enemies = 1\n",
    "\n",
    "def increase_enemies():\n",
    "    enemies += 2\n",
    "    print(f\"enemies inside function: {enemies}\")\n",
    "    \n",
    "increase_enemies()\n",
    "print(f\"enemies outside function: {enemies}\")\n"
   ]
  },
  {
   "cell_type": "markdown",
   "id": "c8fd2542",
   "metadata": {},
   "source": [
    "1~100까지의 숫자 중에 랜덤으로 생긴 하나를 숫자를 맞추는 코드\n",
    "1) 1~100까지의 랜덤 숫자 생성\n",
    "2) 어려움, 보통, 쉬움 난이도 별 life 갯수 유동 설정\n",
    "3) 유저에게 숫자 하나를 묻는 것 생성\n",
    "4) 랜덤으로 생성된 숫자와 유저의 숫자를 비교하여 같으면 맞았다를 출력, 틀리면 높은지 낮은지 계산하여 출력. life 1 감소"
   ]
  },
  {
   "cell_type": "code",
   "execution_count": 29,
   "id": "725462b9",
   "metadata": {},
   "outputs": [
    {
     "data": {
      "text/plain": [
       "1"
      ]
     },
     "execution_count": 29,
     "metadata": {},
     "output_type": "execute_result"
    }
   ],
   "source": [
    "import random\n",
    "\n",
    "com_random = random.randint(1,10)\n",
    "com_random"
   ]
  },
  {
   "cell_type": "code",
   "execution_count": null,
   "id": "c3820dd3",
   "metadata": {},
   "outputs": [],
   "source": [
    "import random\n",
    "\n",
    "def set_difficulty():\n",
    "    diff_choice = {'easy': 10, 'hard': 5}\n",
    "    \n",
    "    while True:\n",
    "        diff = input(f\"난이도를 입력 하시오. [easy/hard]: \").strip().lower()\n",
    "        \n",
    "        if diff in diff_choice:\n",
    "            return diff_choice[diff]\n",
    "        else:\n",
    "            print(f\"잘못 입력 하였습니다. 다시 입력 해주세요.\")\n",
    "\n",
    "def check_answer(guess, answer, now_life):\n",
    "    if guess > answer:\n",
    "        print(f'생명: {now_life} 설정된 숫자보다 높습니다.')\n",
    "    elif guess < answer:\n",
    "        print(f'생명: {now_life} 설정된 숫자보다 낮습니다.')\n",
    "    else:\n",
    "        print(f'정답 입니다. 숫자는 :{answer}입니다.')\n",
    "\n",
    "random_number = random.randint(1,100)\n",
    "my_guess = 0\n",
    "life = set_difficulty()\n",
    "\n",
    "while random_number != my_guess:\n",
    "    \n",
    "    my_guess = int(input(f'숫자를 입력 하시오: '))\n",
    "    check_answer(my_guess, random_number, life)\n",
    "    if life == 0:\n",
    "        break\n"
   ]
  },
  {
   "cell_type": "markdown",
   "id": "303e627e",
   "metadata": {},
   "source": [
    "코드 디버깅 파트"
   ]
  },
  {
   "cell_type": "code",
   "execution_count": 1,
   "id": "a6f75783",
   "metadata": {},
   "outputs": [
    {
     "name": "stdout",
     "output_type": "stream",
     "text": [
      "You got it\n"
     ]
    }
   ],
   "source": [
    "def my_function():\n",
    "    for i in range(1, 20+1):\n",
    "        if i == 20:\n",
    "            print('You got it')\n",
    " \n",
    "my_function()"
   ]
  },
  {
   "cell_type": "code",
   "execution_count": 26,
   "id": "38bfadc9",
   "metadata": {},
   "outputs": [
    {
     "name": "stdout",
     "output_type": "stream",
     "text": [
      "0\n",
      "①\n"
     ]
    }
   ],
   "source": [
    "from random import randint\n",
    "\n",
    "\n",
    "dice_imgs = ['①', '②', '③', '④', '⑤', '⑥']\n",
    "dice_num = randint(0, 5)\n",
    "print(dice_num)\n",
    "print(dice_imgs[dice_num])"
   ]
  },
  {
   "cell_type": "code",
   "execution_count": 30,
   "id": "0f59c61a",
   "metadata": {},
   "outputs": [],
   "source": [
    "year = int(input(\"What's your year of birth? \"))\n",
    "if year > 1980 and year < 1994:\n",
    "    print(\"You are a millenial.\")\n",
    "elif year > 1994:\n",
    "    print(\"You are a Gen Z.\")\n"
   ]
  },
  {
   "cell_type": "code",
   "execution_count": 34,
   "id": "eb027cfd",
   "metadata": {},
   "outputs": [],
   "source": [
    "age = int(input(\"How old are you?\"))\n",
    "if age > 18:\n",
    "    print(f\"You can drive at age {age}.\")"
   ]
  },
  {
   "cell_type": "code",
   "execution_count": 35,
   "id": "c63520f2",
   "metadata": {},
   "outputs": [
    {
     "name": "stdout",
     "output_type": "stream",
     "text": [
      "12\n"
     ]
    }
   ],
   "source": [
    "pages = 0\n",
    "word_per_page = 0\n",
    "pages = int(input(\"Number of pages: \"))\n",
    "word_per_page = int(input(\"Number of words per page: \"))\n",
    "total_words = pages * word_per_page\n",
    "print(total_words)"
   ]
  },
  {
   "cell_type": "code",
   "execution_count": 38,
   "id": "1d1b5682",
   "metadata": {},
   "outputs": [
    {
     "name": "stdout",
     "output_type": "stream",
     "text": [
      "[2, 4, 6, 10, 16, 26]\n"
     ]
    }
   ],
   "source": [
    "def mutate(a_list):\n",
    "    b_list = []\n",
    "    for item in a_list:\n",
    "        new_item = item * 2\n",
    "        b_list.append(new_item)\n",
    "    print(b_list)\n",
    "\n",
    "mutate([1,2,3,5,8,13])"
   ]
  },
  {
   "cell_type": "code",
   "execution_count": null,
   "id": "16830037",
   "metadata": {},
   "outputs": [
    {
     "name": "stdout",
     "output_type": "stream",
     "text": [
      "윤년\n"
     ]
    }
   ],
   "source": [
    "\n",
    "if (year % 4 == 0 and year % 100 != 0) or year % 400 == 0:\n",
    "    print('윤년')\n",
    "else:\n",
    "    print('윤년 아님')"
   ]
  },
  {
   "cell_type": "code",
   "execution_count": 2,
   "id": "34db810e",
   "metadata": {},
   "outputs": [
    {
     "name": "stdout",
     "output_type": "stream",
     "text": [
      "<class 'list'>\n"
     ]
    }
   ],
   "source": [
    "print(type([1]))"
   ]
  },
  {
   "cell_type": "code",
   "execution_count": null,
   "id": "7642c757",
   "metadata": {},
   "outputs": [],
   "source": []
  }
 ],
 "metadata": {
  "kernelspec": {
   "display_name": "Python 3",
   "language": "python",
   "name": "python3"
  },
  "language_info": {
   "codemirror_mode": {
    "name": "ipython",
    "version": 3
   },
   "file_extension": ".py",
   "mimetype": "text/x-python",
   "name": "python",
   "nbconvert_exporter": "python",
   "pygments_lexer": "ipython3",
   "version": "3.13.3"
  }
 },
 "nbformat": 4,
 "nbformat_minor": 5
}
