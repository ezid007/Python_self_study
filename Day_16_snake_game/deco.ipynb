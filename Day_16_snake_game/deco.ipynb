{
 "cells": [
  {
   "cell_type": "code",
   "execution_count": null,
   "id": "e2261616",
   "metadata": {},
   "outputs": [
    {
     "name": "stdout",
     "output_type": "stream",
     "text": [
      "레벨 값을 가져갑니다.\n",
      "마법사의 레벨은 5입니다.\n",
      "레벨은 1보다 낮을 수 없습니다. 레벨을 1로 설정합니다.\n",
      "레벨 값을 가져갑니다.\n",
      "조정된 레벨은 1입니다.\n"
     ]
    }
   ],
   "source": [
    "# 프로퍼티 (Properties): 속성을 똑똑하게 관리하기\n",
    "class Player:\n",
    "    def __init__(self, name, level):\n",
    "        self.name = name\n",
    "        self._level = level # 실제 값은 _(언더스코어)가 붙은 변수에 저장\n",
    "\n",
    "    @property\n",
    "    def level(self):\n",
    "        print(\"레벨 값을 가져갑니다.\")\n",
    "        return self._level\n",
    "\n",
    "    @level.setter\n",
    "    def level(self, value):\n",
    "        if value < 1:\n",
    "            print(\"레벨은 1보다 낮을 수 없습니다. 레벨을 1로 설정합니다.\")\n",
    "            self._level = 1\n",
    "        else:\n",
    "            print(f\"레벨을 {value}로 설정합니다.\")\n",
    "            self._level = value\n",
    "\n",
    "player2 = Player(\"마법사\", 5)\n",
    "\n",
    "# .level 속성에 접근하면 @property 메소드가 호출됨\n",
    "print(f\"{player2.name}의 레벨은 {player2.level}입니다.\")\n",
    "# 출력:\n",
    "# 레벨 값을 가져갑니다.\n",
    "# 마법사의 레벨은 5입니다.\n",
    "\n",
    "# .level 속성에 값을 할당하면 @level.setter 메소드가 호출됨\n",
    "player2.level = -5\n",
    "# 출력:\n",
    "# 레벨은 1보다 낮을 수 없습니다. 레벨을 1로 설정합니다.\n",
    "\n",
    "print(f\"조정된 레벨은 {player2.level}입니다.\")\n",
    "# 출력:\n",
    "# 레벨 값을 가져갑니다.\n",
    "# 조정된 레벨은 1입니다."
   ]
  },
  {
   "cell_type": "code",
   "execution_count": 2,
   "id": "8b31c86b",
   "metadata": {},
   "outputs": [
    {
     "name": "stdout",
     "output_type": "stream",
     "text": [
      "Player_A 내부 레벨(_level): -5\n"
     ]
    }
   ],
   "source": [
    "class Player_A:\n",
    "    def __init__(self, name, level):\n",
    "        self.name = name\n",
    "        # Setter를 무시하고 내부 변수에 값을 직접 할당!\n",
    "        self._level = level \n",
    "    \n",
    "    @property\n",
    "    def level(self):\n",
    "        return self._level\n",
    "\n",
    "    @level.setter\n",
    "    def level(self, value):\n",
    "        if value < 1:\n",
    "            self._level = 1\n",
    "        else:\n",
    "            self._level = value\n",
    "\n",
    "# 문제가 발생하는 상황\n",
    "# __init__에서 Setter를 건너뛰었기 때문에, -5라는 잘못된 값이 그대로 들어감!\n",
    "p_A = Player_A(\"초보\", -5) \n",
    "\n",
    "# 객체가 잘못된 상태로 생성되어 버림\n",
    "print(f\"Player_A 내부 레벨(_level): {p_A._level}\") # 출력: Player_A 내부 레벨(_level): -5"
   ]
  },
  {
   "cell_type": "code",
   "execution_count": 3,
   "id": "8eab69a1",
   "metadata": {},
   "outputs": [
    {
     "name": "stdout",
     "output_type": "stream",
     "text": [
      "Player_B 내부 레벨(_level): 1\n"
     ]
    }
   ],
   "source": [
    "class Player_B:\n",
    "    def __init__(self, name, level):\n",
    "        self.name = name\n",
    "        # 프로퍼티에 값을 할당 -> @level.setter가 자동으로 호출됨!\n",
    "        self.level = level\n",
    "    \n",
    "    @property\n",
    "    def level(self):\n",
    "        return self._level\n",
    "\n",
    "    @level.setter\n",
    "    def level(self, value):\n",
    "        if value < 1:\n",
    "            self._level = 1\n",
    "        else:\n",
    "            self._level = value\n",
    "\n",
    "# 안전한 상황\n",
    "# __init__에서 self.level = -5를 실행하는 순간 Setter가 호출되어 규칙이 적용됨\n",
    "p_B = Player_B(\"현명한 초보\", -5)\n",
    "\n",
    "# 객체가 생성되는 시점에 스스로 상태를 보정함\n",
    "print(f\"Player_B 내부 레벨(_level): {p_B._level}\") # 출력: Player_B 내부 레벨(_level): 1"
   ]
  },
  {
   "cell_type": "code",
   "execution_count": null,
   "id": "7fcb361a",
   "metadata": {},
   "outputs": [],
   "source": [
    "# 클래스 메소드와 정적 메소드\n",
    "class Player:\n",
    "    MAX_LEVEL = 99 # 클래스 속성 (모든 Player 객체가 공유)\n",
    "\n",
    "    def __init__(self, name):\n",
    "        self.name = name\n",
    "\n",
    "    # 클래스 메소드: '만렙' 플레이어를 만드는 특별한 생성 방법\n",
    "    @classmethod\n",
    "    def create_max_level_player(cls, name):\n",
    "        print(f\"최대 레벨({cls.MAX_LEVEL}) 플레이어를 생성합니다.\")\n",
    "        return cls(name) # cls는 Player 클래스 자체를 의미함\n",
    "\n",
    "    # 정적 메소드: 게임 규칙을 설명하는, 상태와 무관한 함수\n",
    "    @staticmethod\n",
    "    def get_game_rules():\n",
    "        return \"1. 즐겁게 플레이하세요. 2. 다른 유저를 존중하세요.\"\n",
    "\n",
    "# 클래스 메소드 호출 (객체 생성 없이 클래스에서 바로 호출)\n",
    "max_player = Player.create_max_level_player(\"지존전사\")\n",
    "\n",
    "# 정적 메소드 호출\n",
    "print(\"게임 규칙:\", Player.get_game_rules())"
   ]
  },
  {
   "cell_type": "code",
   "execution_count": null,
   "id": "53838507",
   "metadata": {},
   "outputs": [],
   "source": [
    "class Student:\n",
    "    def __init__(self, name, student_id):\n",
    "        self.name = name\n",
    "        self.student_id = student_id\n",
    "\n",
    "    # '나(self)'를 소개하는 인스턴스 메소드\n",
    "    def introduce(self):\n",
    "        print(f\"안녕하세요, 저는 {self.name}이고, 학번은 {self.student_id}입니다.\")\n",
    "\n",
    "# 인스턴스(학생) 생성\n",
    "s1 = Student(\"홍길동\", \"2025001\")\n",
    "s2 = Student(\"김철수\", \"2025002\")\n",
    "\n",
    "# 각 학생(인스턴스)이 자신을 소개함\n",
    "s1.introduce() # self는 s1을 가리킴\n",
    "s2.introduce() # self는 s2를 가리킴"
   ]
  },
  {
   "cell_type": "code",
   "execution_count": null,
   "id": "9d2c70a8",
   "metadata": {},
   "outputs": [],
   "source": [
    "class Student:\n",
    "    # 클래스 속성: 모든 학생 인스턴스가 공유하는 값\n",
    "    campus_location = \"서울\"\n",
    "    tuition_fee = 4000000\n",
    "\n",
    "    def __init__(self, name, student_id):\n",
    "        self.name = name\n",
    "        self.student_id = student_id\n",
    "\n",
    "    # 학교(클래스)의 위치를 알려주는 클래스 메소드\n",
    "    @classmethod\n",
    "    def get_campus_info(cls):\n",
    "        print(f\"우리 학교 캠퍼스는 {cls.campus_location}에 있습니다.\")\n",
    "\n",
    "    # '편입생'을 만드는 특별한 생성자(팩토리)\n",
    "    @classmethod\n",
    "    def create_transfer_student(cls, name):\n",
    "        print(f\"편입생 {name}의 임시 학번을 발급합니다.\")\n",
    "        # cls는 Student 클래스이므로, cls()는 Student()와 같음\n",
    "        return cls(name, \"2025-T-01\")\n",
    "\n",
    "# 클래스 메소드는 인스턴스 없이 클래스 이름으로 바로 호출\n",
    "Student.get_campus_info() # 출력: 우리 학교 캠퍼스는 서울에 있습니다.\n",
    "\n",
    "# 클래스 메소드를 이용해 새로운 인스턴스를 생성\n",
    "transfer_s = Student.create_transfer_student(\"나편입\")\n",
    "print(f\"{transfer_s.name} 학생이 생성되었습니다. (학번: {transfer_s.student_id})\")"
   ]
  },
  {
   "cell_type": "code",
   "execution_count": null,
   "id": "15681374",
   "metadata": {},
   "outputs": [],
   "source": [
    "class Player:\n",
    "    def __init__(self, nickname):\n",
    "        # 닉네임이 유효한지 정적 메소드로 검사\n",
    "        if not Player.is_valid_nickname(nickname):\n",
    "            raise ValueError(f\"'{nickname}'은(는) 사용할 수 없는 닉네임입니다.\")\n",
    "        self.nickname = nickname\n",
    "\n",
    "    def attack(self):\n",
    "        print(f\"{self.nickname}이(가) 공격합니다!\")\n",
    "\n",
    "    # 정적 메소드 1: 닉네임 유효성 검사\n",
    "    @staticmethod\n",
    "    def is_valid_nickname(name):\n",
    "        # 닉네임 길이는 3 이상 8 이하여야 한다는 규칙\n",
    "        # 이 규칙은 특정 플레이어의 상태(self)나 클래스 상태(cls)와 무관함\n",
    "        return 3 <= len(name) <= 8\n",
    "\n",
    "    # 정적 메소드 2: 욕설 필터링\n",
    "    @staticmethod\n",
    "    def contains_profanity(text):\n",
    "        # 욕설이 포함되어 있는지 검사하는 로직 (예시)\n",
    "        profane_words = [\"바보\", \"멍청이\"]\n",
    "        for word in profane_words:\n",
    "            if word in text:\n",
    "                return True\n",
    "        return False\n",
    "\n",
    "# --- 사용하기 ---\n",
    "\n",
    "# 정적 메소드는 클래스 이름으로 바로 호출\n",
    "print(f\"닉네임 '전사'는 유효한가? {Player.is_valid_nickname('전사')}\")\n",
    "print(f\"닉네임 '최강용기사'는 유효한가? {Player.is_valid_nickname('최강용기사')}\")\n",
    "print(f\"'안녕 바보야'에 욕설이 포함되어 있는가? {Player.contains_profanity('안녕 바보야')}\")\n",
    "\n",
    "# 클래스 내부에서도 사용됨\n",
    "try:\n",
    "    p1 = Player(\"용사\")     # 유효함\n",
    "    p2 = Player(\"용\")       # 에러 발생!\n",
    "except ValueError as e:\n",
    "    print(e)"
   ]
  },
  {
   "cell_type": "code",
   "execution_count": null,
   "id": "f0531f04",
   "metadata": {},
   "outputs": [],
   "source": [
    "# 4. 데이터 클래스 (Dataclasses)\n",
    "\n",
    "from dataclasses import dataclass\n",
    "\n",
    "# @dataclass 데코레이터 하나만 붙이면 끝!\n",
    "@dataclass\n",
    "class Item:\n",
    "    name: str\n",
    "    price: int\n",
    "    weight: float\n",
    "\n",
    "# __init__을 직접 작성하지 않았지만, 자동으로 생성되어 잘 동작함\n",
    "potion = Item(\"체력 물약\", 50, 0.5)\n",
    "\n",
    "# __repr__도 자동으로 생성되어 print() 출력이 매우 깔끔함\n",
    "print(potion)\n",
    "# 출력: Item(name='체력 물약', price=50, weight=0.5)\n",
    "\n",
    "potion2 = Item(\"체력 물약\", 50, 0.5)\n",
    "\n",
    "# __eq__도 자동으로 생성되어 내용 기반의 비교가 가능함\n",
    "print(potion == potion2) # 출력: True"
   ]
  },
  {
   "cell_type": "code",
   "execution_count": 5,
   "id": "128c0213",
   "metadata": {},
   "outputs": [
    {
     "name": "stdout",
     "output_type": "stream",
     "text": [
      "이건 str: \n",
      "True\n"
     ]
    },
    {
     "data": {
      "text/plain": [
       "이건 repr: Point(x=10, y=20)"
      ]
     },
     "execution_count": 5,
     "metadata": {},
     "output_type": "execute_result"
    }
   ],
   "source": [
    "# 데이터클래스 없이, 수동으로 모든 것을 구현\n",
    "class Point:\n",
    "    def __init__(self, x: int, y: int):\n",
    "        self.x = x\n",
    "        self.y = y\n",
    "    \n",
    "    # 객체를 예쁘게 표현하기 위한 메소드\n",
    "    def __repr__(self):\n",
    "        return f\"이건 repr: Point(x={self.x}, y={self.y})\"\n",
    "        \n",
    "    # 두 객체의 내용이 같은지 비교하기 위한 메소드\n",
    "    def __eq__(self, other):\n",
    "        if not isinstance(other, Point):\n",
    "            return NotImplemented\n",
    "        return self.x == other.x and self.y == other.y\n",
    "    \n",
    "    def __str__(self):\n",
    "        return f\"이건 str: \"\n",
    "\n",
    "# 사용하기\n",
    "p1 = Point(10, 20)\n",
    "p2 = Point(10, 20)\n",
    "print(p1)          # 출력: Point(x=10, y=20)\n",
    "print(p1 == p2)    # 출력: True\n",
    "p1\n"
   ]
  },
  {
   "cell_type": "code",
   "execution_count": 3,
   "id": "f56825f4",
   "metadata": {},
   "outputs": [
    {
     "name": "stdout",
     "output_type": "stream",
     "text": [
      "Dsd(x=1, y=2)\n",
      "Dsd(x=2, y=3)\n",
      "False\n"
     ]
    }
   ],
   "source": [
    "from dataclasses import dataclass\n",
    "\n",
    "@dataclass\n",
    "class Dsd:\n",
    "    x: int\n",
    "    y: int\n",
    "    \n",
    "    \n",
    "p1 = Dsd(1, 2)\n",
    "p2 = Dsd(2, 3)\n",
    "\n",
    "print(p1)\n",
    "print(p2)\n",
    "\n",
    "print(p1 == p2)"
   ]
  },
  {
   "cell_type": "code",
   "execution_count": null,
   "id": "2d0e0b21",
   "metadata": {},
   "outputs": [],
   "source": [
    "import datetime\n",
    "\n",
    "class Character:\n",
    "    def __init__(self, name, level, hp, max_hp):\n",
    "        self.name = name\n",
    "        self.level = level\n",
    "        self.hp = hp\n",
    "        self.max_hp = max_hp\n",
    "    \n",
    "    # __repr__은 개발자를 위해 명확하게!\n",
    "    def __repr__(self):\n",
    "        return f\"Character(name='{self.name}', level={self.level}, hp={self.hp}, max_hp={self.max_hp})\"\n",
    "\n",
    "    # __str__은 사용자를 위해 친절하게!\n",
    "    def __str__(self):\n",
    "        return f\"<{self.name} | 레벨 {self.level} | HP {self.hp}/{self.max_hp}>\"\n",
    "\n",
    "today = datetime.datetime.now()\n",
    "char = Character(\"용기사\", 50, 2800, 3500)\n",
    "\n",
    "# print()는 __str__을 호출합니다.\n",
    "print(today) # 출력: 2025-06-23 10:35:15.123456 (사람이 보기 편한 형식)\n",
    "print(char)  # 출력: <용기사 | 레벨 50 | HP 2800/3500>"
   ]
  }
 ],
 "metadata": {
  "kernelspec": {
   "display_name": ".venv",
   "language": "python",
   "name": "python3"
  },
  "language_info": {
   "codemirror_mode": {
    "name": "ipython",
    "version": 3
   },
   "file_extension": ".py",
   "mimetype": "text/x-python",
   "name": "python",
   "nbconvert_exporter": "python",
   "pygments_lexer": "ipython3",
   "version": "3.10.11"
  }
 },
 "nbformat": 4,
 "nbformat_minor": 5
}
