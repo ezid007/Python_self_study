{
 "cells": [
  {
   "cell_type": "code",
   "execution_count": 3,
   "id": "220dc4eb",
   "metadata": {},
   "outputs": [
    {
     "name": "stdout",
     "output_type": "stream",
     "text": [
      "A slug's blood is green.\n"
     ]
    }
   ],
   "source": [
    "from data import question_data\n",
    "from question_model import Question\n",
    "\n",
    "question_bank = []\n",
    "\n",
    "for question in question_data:\n",
    "    question_text = question[\"text\"]\n",
    "    question_answer = question[\"answer\"]\n",
    "    new_question = Question(question_text, question_answer)\n",
    "    question_bank.append(new_question)\n",
    "    \n",
    "print(question_bank[0].text)"
   ]
  }
 ],
 "metadata": {
  "kernelspec": {
   "display_name": "Python 3",
   "language": "python",
   "name": "python3"
  },
  "language_info": {
   "codemirror_mode": {
    "name": "ipython",
    "version": 3
   },
   "file_extension": ".py",
   "mimetype": "text/x-python",
   "name": "python",
   "nbconvert_exporter": "python",
   "pygments_lexer": "ipython3",
   "version": "3.13.3"
  }
 },
 "nbformat": 4,
 "nbformat_minor": 5
}
