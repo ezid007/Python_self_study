{
 "cells": [
  {
   "cell_type": "code",
   "execution_count": null,
   "id": "d302fc1c",
   "metadata": {},
   "outputs": [],
   "source": [
    "class User:\n",
    "    def __init__(self, user_id, username):\n",
    "        self.id = user_id\n",
    "        self.username = username # 파라미터를 받는 것\n",
    "        self.followers = 0 # 기본값 설정\n",
    "        self.address = '서울'\n",
    "    \n",
    "    def follow(self, user):\n",
    "        self.followers += 1\n",
    "        user.followers += 1\n",
    "\n",
    "user_01 = User(\"001\", \"angela\")\n",
    "user_02 = User(\"002\", \"angela\")\n",
    "\n",
    "print(f\"user_01.followers: {user_01.followers}\")\n",
    "print(f\"user_02.followers: {user_02.followers}\")\n",
    "\n",
    "user_01.follow(user_02)\n",
    "print(f\"user_01.followers: {user_01.followers}\")\n",
    "print(f\"user_02.followers: {user_02.followers}\")\n"
   ]
  }
 ],
 "metadata": {
  "language_info": {
   "name": "python"
  }
 },
 "nbformat": 4,
 "nbformat_minor": 5
}
