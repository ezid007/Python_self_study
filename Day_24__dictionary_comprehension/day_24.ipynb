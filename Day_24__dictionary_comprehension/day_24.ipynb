{
 "cells": [
  {
   "cell_type": "markdown",
   "id": "215c53cb",
   "metadata": {},
   "source": [
    "기본 틀\n",
    "```python\n",
    "new_dict = {new_key:new_value for item in list}\n",
    "```"
   ]
  },
  {
   "cell_type": "code",
   "execution_count": 2,
   "id": "68e33f20",
   "metadata": {},
   "outputs": [
    {
     "data": {
      "text/plain": [
       "{'Alice': 85, 'Bob': 92, 'Charlie': 78}"
      ]
     },
     "execution_count": 2,
     "metadata": {},
     "output_type": "execute_result"
    }
   ],
   "source": [
    "students = ['Alice', 'Bob', 'Charlie']\n",
    "scores = [85, 92, 78]\n",
    "\n",
    "score_board ={students : scores for students, scores in zip(students, scores)}\n",
    "\n",
    "score_board"
   ]
  },
  {
   "cell_type": "code",
   "execution_count": 3,
   "id": "a8f8c4d3",
   "metadata": {},
   "outputs": [
    {
     "name": "stdout",
     "output_type": "stream",
     "text": [
      "['positive', 'negative', 'zero', 'positive', 'negative', 'positive']\n"
     ]
    }
   ],
   "source": [
    "numbers = [10, -5, 0, 20, -15, 3]\n",
    "\n",
    "\"\"\"\n",
    "중첩된 if-else 표현식을 사용하여 elif 효과를 냅니다.\n",
    "\"\"\"\n",
    "\n",
    "number_class = [\n",
    "    'positive' if num > 0 else ('negative' if num < 0 else 'zero')\n",
    "    for num in numbers\n",
    "]\n",
    "\n",
    "print(number_class)"
   ]
  },
  {
   "cell_type": "code",
   "execution_count": 4,
   "id": "128c337c",
   "metadata": {},
   "outputs": [
    {
     "name": "stdout",
     "output_type": "stream",
     "text": [
      "{'Alice (팀장)': 'B', 'Bob': 'A', 'Charlie': 'B'}\n"
     ]
    }
   ],
   "source": [
    "scores = {'Alice': 85, 'Bob': 92, 'Charlie': 78, 'David': 65, 'Eve': 45}\n",
    "\n",
    "\"\"\"\n",
    "키, 값, 필터링에 모두 조건을 적용하는 예제\n",
    "\"\"\"\n",
    "grade_report = {\n",
    "    # 3. 키(Key) 조건: 'Alice'이면 특별한 이름으로, 아니면 원래 이름으로\n",
    "    (name + ' (팀장)' if name == 'Alice' else name):\n",
    "\n",
    "    # 2. 값(Value) 조건: 점수가 90점 이상이면 'A', 아니면 'B'\n",
    "    ('A' if score >= 90 else 'B')\n",
    "\n",
    "    # for 루프\n",
    "    for name, score in scores.items()\n",
    "\n",
    "    # 1. 필터링 조건: 점수가 70점 이상인 학생만 포함\n",
    "    if score >= 70\n",
    "}\n",
    "\n",
    "print(grade_report)"
   ]
  },
  {
   "cell_type": "code",
   "execution_count": 5,
   "id": "c37f04f7",
   "metadata": {},
   "outputs": [
    {
     "name": "stdout",
     "output_type": "stream",
     "text": [
      "{'Alice (팀장)': 'B', 'Bob': 'A', 'Charlie': 'B'}\n"
     ]
    }
   ],
   "source": [
    "scores = {'Alice': 85, 'Bob': 92, 'Charlie': 78, 'David': 65, 'Eve': 45}\n",
    "\n",
    "\"\"\"\n",
    "새로운 보고서를 담을 빈 딕셔너리를 먼저 생성합니다.\n",
    "\"\"\"\n",
    "grade_report_for_loop = {}\n",
    "\n",
    "\"\"\"\n",
    "scores 딕셔너리의 모든 항목을 순회합니다.\n",
    ".items()를 사용하여 이름(name)과 점수(score)를 한 번에 가져옵니다.\n",
    "\"\"\"\n",
    "for name, score in scores.items():\n",
    "    \"\"\"\n",
    "    1. 필터링 조건\n",
    "    점수가 70점 이상인 경우에만 아래의 로직을 실행합니다.\n",
    "    70점 미만이면 이 학생은 그냥 건너뜁니다.\n",
    "    \"\"\"\n",
    "    if score >= 70:\n",
    "        final_key = name\n",
    "        final_value = ''\n",
    "\n",
    "        \"\"\"\n",
    "        2. 키(Key) 조건\n",
    "        이름이 'Alice'이면 키의 끝에 '(팀장)'을 추가합니다.\n",
    "        \"\"\"\n",
    "        if name == 'Alice':\n",
    "            final_key = name + ' (팀장)'\n",
    "\n",
    "        \"\"\"\n",
    "        3. 값(Value) 조건\n",
    "        점수가 90점 이상이면 값으로 'A'를, 그렇지 않으면 'B'를 할당합니다.\n",
    "        \"\"\"\n",
    "        if score >= 90:\n",
    "            final_value = 'A'\n",
    "        else:\n",
    "            final_value = 'B'\n",
    "\n",
    "        \"\"\"\n",
    "        최종적으로 결정된 키와 값으로 새로운 딕셔너리에 항목을 추가합니다.\n",
    "        \"\"\"\n",
    "        grade_report_for_loop[final_key] = final_value\n",
    "\n",
    "print(grade_report_for_loop)"
   ]
  },
  {
   "cell_type": "code",
   "execution_count": 3,
   "id": "fcb0b9f6",
   "metadata": {},
   "outputs": [
    {
     "data": {
      "application/vnd.microsoft.datawrangler.viewer.v0+json": {
       "columns": [
        {
         "name": "index",
         "rawType": "int64",
         "type": "integer"
        },
        {
         "name": "0",
         "rawType": "object",
         "type": "string"
        },
        {
         "name": "1",
         "rawType": "int64",
         "type": "integer"
        }
       ],
       "ref": "27fc7c24-6dfa-4f82-b967-c2fb36e1267b",
       "rows": [
        [
         "0",
         "Alice",
         "85"
        ],
        [
         "1",
         "Bob",
         "92"
        ],
        [
         "2",
         "Charlie",
         "78"
        ],
        [
         "3",
         "David",
         "65"
        ],
        [
         "4",
         "Eve",
         "45"
        ]
       ],
       "shape": {
        "columns": 2,
        "rows": 5
       }
      },
      "text/html": [
       "<div>\n",
       "<style scoped>\n",
       "    .dataframe tbody tr th:only-of-type {\n",
       "        vertical-align: middle;\n",
       "    }\n",
       "\n",
       "    .dataframe tbody tr th {\n",
       "        vertical-align: top;\n",
       "    }\n",
       "\n",
       "    .dataframe thead th {\n",
       "        text-align: right;\n",
       "    }\n",
       "</style>\n",
       "<table border=\"1\" class=\"dataframe\">\n",
       "  <thead>\n",
       "    <tr style=\"text-align: right;\">\n",
       "      <th></th>\n",
       "      <th>0</th>\n",
       "      <th>1</th>\n",
       "    </tr>\n",
       "  </thead>\n",
       "  <tbody>\n",
       "    <tr>\n",
       "      <th>0</th>\n",
       "      <td>Alice</td>\n",
       "      <td>85</td>\n",
       "    </tr>\n",
       "    <tr>\n",
       "      <th>1</th>\n",
       "      <td>Bob</td>\n",
       "      <td>92</td>\n",
       "    </tr>\n",
       "    <tr>\n",
       "      <th>2</th>\n",
       "      <td>Charlie</td>\n",
       "      <td>78</td>\n",
       "    </tr>\n",
       "    <tr>\n",
       "      <th>3</th>\n",
       "      <td>David</td>\n",
       "      <td>65</td>\n",
       "    </tr>\n",
       "    <tr>\n",
       "      <th>4</th>\n",
       "      <td>Eve</td>\n",
       "      <td>45</td>\n",
       "    </tr>\n",
       "  </tbody>\n",
       "</table>\n",
       "</div>"
      ],
      "text/plain": [
       "         0   1\n",
       "0    Alice  85\n",
       "1      Bob  92\n",
       "2  Charlie  78\n",
       "3    David  65\n",
       "4      Eve  45"
      ]
     },
     "execution_count": 3,
     "metadata": {},
     "output_type": "execute_result"
    }
   ],
   "source": [
    "import pandas as pd\n",
    "\n",
    "scores = {'Alice': 85, 'Bob': 92, 'Charlie': 78, 'David': 65, 'Eve': 45}\n",
    "\n",
    "score_pd = pd.DataFrame(scores.items())\n",
    "score_pd"
   ]
  },
  {
   "cell_type": "code",
   "execution_count": 4,
   "id": "a37eae9a",
   "metadata": {},
   "outputs": [
    {
     "data": {
      "application/vnd.microsoft.datawrangler.viewer.v0+json": {
       "columns": [
        {
         "name": "index",
         "rawType": "object",
         "type": "string"
        },
        {
         "name": "0",
         "rawType": "int64",
         "type": "integer"
        }
       ],
       "ref": "a84ce0d9-eb59-486a-a892-e790ab90c2ba",
       "rows": [
        [
         "Alice",
         "85"
        ],
        [
         "Bob",
         "92"
        ],
        [
         "Charlie",
         "78"
        ],
        [
         "David",
         "65"
        ],
        [
         "Eve",
         "45"
        ]
       ],
       "shape": {
        "columns": 1,
        "rows": 5
       }
      },
      "text/plain": [
       "Alice      85\n",
       "Bob        92\n",
       "Charlie    78\n",
       "David      65\n",
       "Eve        45\n",
       "dtype: int64"
      ]
     },
     "execution_count": 4,
     "metadata": {},
     "output_type": "execute_result"
    }
   ],
   "source": [
    "import pandas as pd\n",
    "\n",
    "scores = {'Alice': 85, 'Bob': 92, 'Charlie': 78, 'David': 65, 'Eve': 45}\n",
    "\n",
    "score_pd = pd.Series(scores)\n",
    "score_pd"
   ]
  },
  {
   "cell_type": "markdown",
   "id": "850122c7",
   "metadata": {},
   "source": [
    "```python\n",
    "new_dict = {new_key:new_value for (key, value) in dict.items()}\n",
    "```"
   ]
  },
  {
   "cell_type": "code",
   "execution_count": 6,
   "id": "dd23c686",
   "metadata": {},
   "outputs": [
    {
     "data": {
      "text/plain": [
       "[1, 2, 2, 3, 4, 4, 6, 8, 66, 78, 99]"
      ]
     },
     "execution_count": 6,
     "metadata": {},
     "output_type": "execute_result"
    }
   ],
   "source": [
    "sentence = sorted(map(int,input().split(',')))\n",
    "\n",
    "sentence\n"
   ]
  },
  {
   "cell_type": "code",
   "execution_count": null,
   "id": "34bbcbb0",
   "metadata": {},
   "outputs": [],
   "source": [
    "\"\"\"\n",
    "for 반복문을 사용하는 경우\n",
    "\"\"\"\n",
    "str_numbers = ['1', '5', '10', '20']\n",
    "int_numbers = []\n",
    "for s in str_numbers:\n",
    "    int_numbers.append(int(s))\n",
    "print(int_numbers)\n",
    "\n",
    "\"\"\"\n",
    "map을 사용하는 경우 (훨씬 간결함)\n",
    "\"\"\"\n",
    "str_numbers = ['1', '5', '10', '20']\n",
    "int_numbers_map = list(map(int, str_numbers))\n",
    "print(int_numbers_map)"
   ]
  },
  {
   "cell_type": "code",
   "execution_count": 9,
   "id": "2ab335aa",
   "metadata": {},
   "outputs": [
    {
     "name": "stdout",
     "output_type": "stream",
     "text": [
      "[11, 22, 33, 44]\n"
     ]
    }
   ],
   "source": [
    "\"\"\"\n",
    "두 리스트의 같은 인덱스에 있는 요소끼리 더합니다.\n",
    "\"\"\"\n",
    "list1 = [1, 2, 3, 4]\n",
    "list2 = [10, 20, 30, 40]\n",
    "\n",
    "\"\"\"\n",
    "lambda x, y: x + y 함수가\n",
    "list1의 요소 x와 list2의 요소 y를 하나씩 받아 더합니다.\n",
    "\"\"\"\n",
    "sum_list = list(map(lambda x, y: x + y, list1, list2))\n",
    "print(sum_list)"
   ]
  },
  {
   "cell_type": "code",
   "execution_count": 13,
   "id": "4af644ed",
   "metadata": {},
   "outputs": [
    {
     "data": {
      "text/plain": [
       "{'Monday': 53.6, 'Tuesday': 57.2, 'Wednesday': 59.0, 'Thursday': 57.2}"
      ]
     },
     "execution_count": 13,
     "metadata": {},
     "output_type": "execute_result"
    }
   ],
   "source": [
    "def temp_chang_c_to_f(temp_c):\n",
    "    return (temp_c * 9/5) + 32\n",
    "\n",
    "weather_c = {\"Monday\": 12, \"Tuesday\": 14, \"Wednesday\": 15, \"Thursday\": 14,}\n",
    "\n",
    "weather_f = {day : temp_chang_c_to_f(temp) for day, temp in weather_c.items()}\n",
    "\n",
    "weather_f"
   ]
  },
  {
   "cell_type": "markdown",
   "id": "6ed5ef6c",
   "metadata": {},
   "source": [
    "```python\n",
    "new_dict = {new_key:new_value for (key, value) in dict.items() if test}\n",
    "```"
   ]
  },
  {
   "cell_type": "code",
   "execution_count": 20,
   "id": "8a0cc066",
   "metadata": {},
   "outputs": [
    {
     "data": {
      "application/vnd.microsoft.datawrangler.viewer.v0+json": {
       "columns": [
        {
         "name": "index",
         "rawType": "int64",
         "type": "integer"
        },
        {
         "name": "student",
         "rawType": "object",
         "type": "string"
        },
        {
         "name": "score",
         "rawType": "int64",
         "type": "integer"
        }
       ],
       "ref": "328eb0e9-3c11-42dc-81f0-db5109794f54",
       "rows": [
        [
         "0",
         "Angela",
         "56"
        ],
        [
         "1",
         "James",
         "76"
        ],
        [
         "2",
         "Lily",
         "98"
        ]
       ],
       "shape": {
        "columns": 2,
        "rows": 3
       }
      },
      "text/html": [
       "<div>\n",
       "<style scoped>\n",
       "    .dataframe tbody tr th:only-of-type {\n",
       "        vertical-align: middle;\n",
       "    }\n",
       "\n",
       "    .dataframe tbody tr th {\n",
       "        vertical-align: top;\n",
       "    }\n",
       "\n",
       "    .dataframe thead th {\n",
       "        text-align: right;\n",
       "    }\n",
       "</style>\n",
       "<table border=\"1\" class=\"dataframe\">\n",
       "  <thead>\n",
       "    <tr style=\"text-align: right;\">\n",
       "      <th></th>\n",
       "      <th>student</th>\n",
       "      <th>score</th>\n",
       "    </tr>\n",
       "  </thead>\n",
       "  <tbody>\n",
       "    <tr>\n",
       "      <th>0</th>\n",
       "      <td>Angela</td>\n",
       "      <td>56</td>\n",
       "    </tr>\n",
       "    <tr>\n",
       "      <th>1</th>\n",
       "      <td>James</td>\n",
       "      <td>76</td>\n",
       "    </tr>\n",
       "    <tr>\n",
       "      <th>2</th>\n",
       "      <td>Lily</td>\n",
       "      <td>98</td>\n",
       "    </tr>\n",
       "  </tbody>\n",
       "</table>\n",
       "</div>"
      ],
      "text/plain": [
       "  student  score\n",
       "0  Angela     56\n",
       "1   James     76\n",
       "2    Lily     98"
      ]
     },
     "execution_count": 20,
     "metadata": {},
     "output_type": "execute_result"
    }
   ],
   "source": [
    "import pandas as pd\n",
    "\n",
    "student_dict = {\n",
    "    \"student\": [\"Angela\", \"James\", \"Lily\"],\n",
    "    \"score\": [56, 76, 98]\n",
    "}\n",
    "\n",
    "student_dict_pd = pd.DataFrame(student_dict)\n",
    "student_dict_pd.set_index(\"student\").to_csv(\"student_dict.csv\")\n",
    "student_dict_pd"
   ]
  },
  {
   "cell_type": "code",
   "execution_count": 1,
   "id": "de7e2ddc",
   "metadata": {},
   "outputs": [
    {
     "name": "stdout",
     "output_type": "stream",
     "text": [
      "--- Angela 학생의 정보 ---\n",
      "전체 행 데이터 (시리즈 객체):\n",
      "score    56\n",
      "Name: Angela, dtype: int64\n",
      "점수만 따로 확인: 56\n",
      "\n",
      "\n",
      "--- James 학생의 정보 ---\n",
      "전체 행 데이터 (시리즈 객체):\n",
      "score    76\n",
      "Name: James, dtype: int64\n",
      "점수만 따로 확인: 76\n",
      "\n",
      "\n",
      "--- Lily 학생의 정보 ---\n",
      "전체 행 데이터 (시리즈 객체):\n",
      "score    98\n",
      "Name: Lily, dtype: int64\n",
      "점수만 따로 확인: 98\n",
      "\n",
      "\n"
     ]
    }
   ],
   "source": [
    "import pandas as pd\n",
    "\n",
    "student_dict = {\n",
    "    \"student\": [\"Angela\", \"James\", \"Lily\"],\n",
    "    \"score\": [56, 76, 98]\n",
    "}\n",
    "student_df = pd.DataFrame(student_dict).set_index(\"student\")\n",
    "\n",
    "\"\"\"\n",
    ".iterrows()를 사용하여 각 학생(인덱스)과 점수(행 데이터)를 출력합니다.\n",
    "\"\"\"\n",
    "for student_name, row_data in student_df.iterrows():\n",
    "    print(f\"--- {student_name} 학생의 정보 ---\")\n",
    "    print(\"전체 행 데이터 (시리즈 객체):\")\n",
    "    print(row_data)\n",
    "    print(f\"점수만 따로 확인: {row_data['score']}\")\n",
    "    print(\"\\n\")"
   ]
  },
  {
   "cell_type": "code",
   "execution_count": 13,
   "id": "91effcdd",
   "metadata": {},
   "outputs": [
    {
     "name": "stdout",
     "output_type": "stream",
     "text": [
      "         score\n",
      "student       \n",
      "Angela      56\n",
      "James       80\n",
      "Lily        98\n"
     ]
    }
   ],
   "source": [
    "import pandas as pd\n",
    "\n",
    "student_dict = {\n",
    "    \"student\": [\"Angela\", \"James\", \"Lily\"],\n",
    "    \"score\": [56, 76, 98]\n",
    "}\n",
    "student_df = pd.DataFrame(student_dict).set_index(\"student\")\n",
    "\n",
    "\"\"\"\n",
    "'James' 학생의 'score'를 80점으로 수정합니다.\n",
    "\"\"\"\n",
    "student_df.loc['James', 'score'] = 80\n",
    "\n",
    "print(student_df)"
   ]
  },
  {
   "cell_type": "code",
   "execution_count": 11,
   "id": "3dc8451b",
   "metadata": {},
   "outputs": [
    {
     "data": {
      "application/vnd.microsoft.datawrangler.viewer.v0+json": {
       "columns": [
        {
         "name": "index",
         "rawType": "int64",
         "type": "integer"
        },
        {
         "name": "student",
         "rawType": "object",
         "type": "unknown"
        },
        {
         "name": "score",
         "rawType": "int64",
         "type": "integer"
        }
       ],
       "ref": "2cfbab20-cd54-45ea-9943-d855d927b44d",
       "rows": [
        [
         "0",
         "Angela",
         "56"
        ],
        [
         "1",
         "James",
         "76"
        ],
        [
         "2",
         "80",
         "98"
        ]
       ],
       "shape": {
        "columns": 2,
        "rows": 3
       }
      },
      "text/html": [
       "<div>\n",
       "<style scoped>\n",
       "    .dataframe tbody tr th:only-of-type {\n",
       "        vertical-align: middle;\n",
       "    }\n",
       "\n",
       "    .dataframe tbody tr th {\n",
       "        vertical-align: top;\n",
       "    }\n",
       "\n",
       "    .dataframe thead th {\n",
       "        text-align: right;\n",
       "    }\n",
       "</style>\n",
       "<table border=\"1\" class=\"dataframe\">\n",
       "  <thead>\n",
       "    <tr style=\"text-align: right;\">\n",
       "      <th></th>\n",
       "      <th>student</th>\n",
       "      <th>score</th>\n",
       "    </tr>\n",
       "  </thead>\n",
       "  <tbody>\n",
       "    <tr>\n",
       "      <th>0</th>\n",
       "      <td>Angela</td>\n",
       "      <td>56</td>\n",
       "    </tr>\n",
       "    <tr>\n",
       "      <th>1</th>\n",
       "      <td>James</td>\n",
       "      <td>76</td>\n",
       "    </tr>\n",
       "    <tr>\n",
       "      <th>2</th>\n",
       "      <td>80</td>\n",
       "      <td>98</td>\n",
       "    </tr>\n",
       "  </tbody>\n",
       "</table>\n",
       "</div>"
      ],
      "text/plain": [
       "  student  score\n",
       "0  Angela     56\n",
       "1   James     76\n",
       "2      80     98"
      ]
     },
     "execution_count": 11,
     "metadata": {},
     "output_type": "execute_result"
    }
   ],
   "source": [
    "import pandas as pd\n",
    "\n",
    "student_dict = {\n",
    "    \"student\": [\"Angela\", \"James\", \"Lily\"],\n",
    "    \"score\": [56, 76, 98]\n",
    "}\n",
    "student_df2 = pd.DataFrame(student_dict)\n",
    "\n",
    "student_df2.iloc[2,0] = 80\n",
    "student_df2\n"
   ]
  },
  {
   "cell_type": "code",
   "execution_count": 16,
   "id": "ff18bbb9",
   "metadata": {},
   "outputs": [
    {
     "name": "stdout",
     "output_type": "stream",
     "text": [
      "56\n"
     ]
    }
   ],
   "source": [
    "for index, row in  student_df2.iterrows():\n",
    "    if row.student == \"Angela\":\n",
    "        print(row.score)"
   ]
  },
  {
   "cell_type": "code",
   "execution_count": null,
   "id": "ecc8f157",
   "metadata": {},
   "outputs": [],
   "source": []
  }
 ],
 "metadata": {
  "kernelspec": {
   "display_name": "Python 3",
   "language": "python",
   "name": "python3"
  },
  "language_info": {
   "codemirror_mode": {
    "name": "ipython",
    "version": 3
   },
   "file_extension": ".py",
   "mimetype": "text/x-python",
   "name": "python",
   "nbconvert_exporter": "python",
   "pygments_lexer": "ipython3",
   "version": "3.13.5"
  }
 },
 "nbformat": 4,
 "nbformat_minor": 5
}
