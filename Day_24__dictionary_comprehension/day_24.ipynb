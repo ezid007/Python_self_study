{
 "cells": [
  {
   "cell_type": "markdown",
   "id": "215c53cb",
   "metadata": {},
   "source": [
    "기본 틀\n",
    "```python\n",
    "new_dict = {new_key:new_value for item in list}\n",
    "```"
   ]
  },
  {
   "cell_type": "code",
   "execution_count": 2,
   "id": "68e33f20",
   "metadata": {},
   "outputs": [
    {
     "data": {
      "text/plain": [
       "{'Alice': 85, 'Bob': 92, 'Charlie': 78}"
      ]
     },
     "execution_count": 2,
     "metadata": {},
     "output_type": "execute_result"
    }
   ],
   "source": [
    "students = ['Alice', 'Bob', 'Charlie']\n",
    "scores = [85, 92, 78]\n",
    "\n",
    "score_board ={students : scores for students, scores in zip(students, scores)}\n",
    "\n",
    "score_board"
   ]
  },
  {
   "cell_type": "code",
   "execution_count": 3,
   "id": "a8f8c4d3",
   "metadata": {},
   "outputs": [
    {
     "name": "stdout",
     "output_type": "stream",
     "text": [
      "['positive', 'negative', 'zero', 'positive', 'negative', 'positive']\n"
     ]
    }
   ],
   "source": [
    "numbers = [10, -5, 0, 20, -15, 3]\n",
    "\n",
    "\"\"\"\n",
    "중첩된 if-else 표현식을 사용하여 elif 효과를 냅니다.\n",
    "\"\"\"\n",
    "\n",
    "number_class = [\n",
    "    'positive' if num > 0 else ('negative' if num < 0 else 'zero')\n",
    "    for num in numbers\n",
    "]\n",
    "\n",
    "print(number_class)"
   ]
  },
  {
   "cell_type": "code",
   "execution_count": 4,
   "id": "128c337c",
   "metadata": {},
   "outputs": [
    {
     "name": "stdout",
     "output_type": "stream",
     "text": [
      "{'Alice (팀장)': 'B', 'Bob': 'A', 'Charlie': 'B'}\n"
     ]
    }
   ],
   "source": [
    "scores = {'Alice': 85, 'Bob': 92, 'Charlie': 78, 'David': 65, 'Eve': 45}\n",
    "\n",
    "\"\"\"\n",
    "키, 값, 필터링에 모두 조건을 적용하는 예제\n",
    "\"\"\"\n",
    "grade_report = {\n",
    "    # 3. 키(Key) 조건: 'Alice'이면 특별한 이름으로, 아니면 원래 이름으로\n",
    "    (name + ' (팀장)' if name == 'Alice' else name):\n",
    "\n",
    "    # 2. 값(Value) 조건: 점수가 90점 이상이면 'A', 아니면 'B'\n",
    "    ('A' if score >= 90 else 'B')\n",
    "\n",
    "    # for 루프\n",
    "    for name, score in scores.items()\n",
    "\n",
    "    # 1. 필터링 조건: 점수가 70점 이상인 학생만 포함\n",
    "    if score >= 70\n",
    "}\n",
    "\n",
    "print(grade_report)"
   ]
  },
  {
   "cell_type": "code",
   "execution_count": 5,
   "id": "c37f04f7",
   "metadata": {},
   "outputs": [
    {
     "name": "stdout",
     "output_type": "stream",
     "text": [
      "{'Alice (팀장)': 'B', 'Bob': 'A', 'Charlie': 'B'}\n"
     ]
    }
   ],
   "source": [
    "scores = {'Alice': 85, 'Bob': 92, 'Charlie': 78, 'David': 65, 'Eve': 45}\n",
    "\n",
    "\"\"\"\n",
    "새로운 보고서를 담을 빈 딕셔너리를 먼저 생성합니다.\n",
    "\"\"\"\n",
    "grade_report_for_loop = {}\n",
    "\n",
    "\"\"\"\n",
    "scores 딕셔너리의 모든 항목을 순회합니다.\n",
    ".items()를 사용하여 이름(name)과 점수(score)를 한 번에 가져옵니다.\n",
    "\"\"\"\n",
    "for name, score in scores.items():\n",
    "    \"\"\"\n",
    "    1. 필터링 조건\n",
    "    점수가 70점 이상인 경우에만 아래의 로직을 실행합니다.\n",
    "    70점 미만이면 이 학생은 그냥 건너뜁니다.\n",
    "    \"\"\"\n",
    "    if score >= 70:\n",
    "        final_key = name\n",
    "        final_value = ''\n",
    "\n",
    "        \"\"\"\n",
    "        2. 키(Key) 조건\n",
    "        이름이 'Alice'이면 키의 끝에 '(팀장)'을 추가합니다.\n",
    "        \"\"\"\n",
    "        if name == 'Alice':\n",
    "            final_key = name + ' (팀장)'\n",
    "\n",
    "        \"\"\"\n",
    "        3. 값(Value) 조건\n",
    "        점수가 90점 이상이면 값으로 'A'를, 그렇지 않으면 'B'를 할당합니다.\n",
    "        \"\"\"\n",
    "        if score >= 90:\n",
    "            final_value = 'A'\n",
    "        else:\n",
    "            final_value = 'B'\n",
    "\n",
    "        \"\"\"\n",
    "        최종적으로 결정된 키와 값으로 새로운 딕셔너리에 항목을 추가합니다.\n",
    "        \"\"\"\n",
    "        grade_report_for_loop[final_key] = final_value\n",
    "\n",
    "print(grade_report_for_loop)"
   ]
  },
  {
   "cell_type": "code",
   "execution_count": 3,
   "id": "fcb0b9f6",
   "metadata": {},
   "outputs": [
    {
     "data": {
      "application/vnd.microsoft.datawrangler.viewer.v0+json": {
       "columns": [
        {
         "name": "index",
         "rawType": "int64",
         "type": "integer"
        },
        {
         "name": "0",
         "rawType": "object",
         "type": "string"
        },
        {
         "name": "1",
         "rawType": "int64",
         "type": "integer"
        }
       ],
       "ref": "27fc7c24-6dfa-4f82-b967-c2fb36e1267b",
       "rows": [
        [
         "0",
         "Alice",
         "85"
        ],
        [
         "1",
         "Bob",
         "92"
        ],
        [
         "2",
         "Charlie",
         "78"
        ],
        [
         "3",
         "David",
         "65"
        ],
        [
         "4",
         "Eve",
         "45"
        ]
       ],
       "shape": {
        "columns": 2,
        "rows": 5
       }
      },
      "text/html": [
       "<div>\n",
       "<style scoped>\n",
       "    .dataframe tbody tr th:only-of-type {\n",
       "        vertical-align: middle;\n",
       "    }\n",
       "\n",
       "    .dataframe tbody tr th {\n",
       "        vertical-align: top;\n",
       "    }\n",
       "\n",
       "    .dataframe thead th {\n",
       "        text-align: right;\n",
       "    }\n",
       "</style>\n",
       "<table border=\"1\" class=\"dataframe\">\n",
       "  <thead>\n",
       "    <tr style=\"text-align: right;\">\n",
       "      <th></th>\n",
       "      <th>0</th>\n",
       "      <th>1</th>\n",
       "    </tr>\n",
       "  </thead>\n",
       "  <tbody>\n",
       "    <tr>\n",
       "      <th>0</th>\n",
       "      <td>Alice</td>\n",
       "      <td>85</td>\n",
       "    </tr>\n",
       "    <tr>\n",
       "      <th>1</th>\n",
       "      <td>Bob</td>\n",
       "      <td>92</td>\n",
       "    </tr>\n",
       "    <tr>\n",
       "      <th>2</th>\n",
       "      <td>Charlie</td>\n",
       "      <td>78</td>\n",
       "    </tr>\n",
       "    <tr>\n",
       "      <th>3</th>\n",
       "      <td>David</td>\n",
       "      <td>65</td>\n",
       "    </tr>\n",
       "    <tr>\n",
       "      <th>4</th>\n",
       "      <td>Eve</td>\n",
       "      <td>45</td>\n",
       "    </tr>\n",
       "  </tbody>\n",
       "</table>\n",
       "</div>"
      ],
      "text/plain": [
       "         0   1\n",
       "0    Alice  85\n",
       "1      Bob  92\n",
       "2  Charlie  78\n",
       "3    David  65\n",
       "4      Eve  45"
      ]
     },
     "execution_count": 3,
     "metadata": {},
     "output_type": "execute_result"
    }
   ],
   "source": [
    "import pandas as pd\n",
    "\n",
    "scores = {'Alice': 85, 'Bob': 92, 'Charlie': 78, 'David': 65, 'Eve': 45}\n",
    "\n",
    "score_pd = pd.DataFrame(scores.items())\n",
    "score_pd"
   ]
  },
  {
   "cell_type": "code",
   "execution_count": 4,
   "id": "a37eae9a",
   "metadata": {},
   "outputs": [
    {
     "data": {
      "application/vnd.microsoft.datawrangler.viewer.v0+json": {
       "columns": [
        {
         "name": "index",
         "rawType": "object",
         "type": "string"
        },
        {
         "name": "0",
         "rawType": "int64",
         "type": "integer"
        }
       ],
       "ref": "a84ce0d9-eb59-486a-a892-e790ab90c2ba",
       "rows": [
        [
         "Alice",
         "85"
        ],
        [
         "Bob",
         "92"
        ],
        [
         "Charlie",
         "78"
        ],
        [
         "David",
         "65"
        ],
        [
         "Eve",
         "45"
        ]
       ],
       "shape": {
        "columns": 1,
        "rows": 5
       }
      },
      "text/plain": [
       "Alice      85\n",
       "Bob        92\n",
       "Charlie    78\n",
       "David      65\n",
       "Eve        45\n",
       "dtype: int64"
      ]
     },
     "execution_count": 4,
     "metadata": {},
     "output_type": "execute_result"
    }
   ],
   "source": [
    "import pandas as pd\n",
    "\n",
    "scores = {'Alice': 85, 'Bob': 92, 'Charlie': 78, 'David': 65, 'Eve': 45}\n",
    "\n",
    "score_pd = pd.Series(scores)\n",
    "score_pd"
   ]
  }
 ],
 "metadata": {
  "kernelspec": {
   "display_name": "Python 3",
   "language": "python",
   "name": "python3"
  },
  "language_info": {
   "codemirror_mode": {
    "name": "ipython",
    "version": 3
   },
   "file_extension": ".py",
   "mimetype": "text/x-python",
   "name": "python",
   "nbconvert_exporter": "python",
   "pygments_lexer": "ipython3",
   "version": "3.13.5"
  }
 },
 "nbformat": 4,
 "nbformat_minor": 5
}
