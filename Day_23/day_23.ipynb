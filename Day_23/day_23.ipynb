{
 "cells": [
  {
   "cell_type": "code",
   "execution_count": 2,
   "id": "c889fd14",
   "metadata": {},
   "outputs": [
    {
     "data": {
      "text/plain": [
       "[2, 3, 4]"
      ]
     },
     "execution_count": 2,
     "metadata": {},
     "output_type": "execute_result"
    }
   ],
   "source": [
    "numbers = [1,2,3]\n",
    "new_list = []\n",
    "for n in numbers:\n",
    "    add_1 = n +1\n",
    "    new_list.append(add_1)\n",
    "new_list"
   ]
  },
  {
   "cell_type": "code",
   "execution_count": 3,
   "id": "85e0041b",
   "metadata": {},
   "outputs": [
    {
     "data": {
      "text/plain": [
       "[2, 3, 4]"
      ]
     },
     "execution_count": 3,
     "metadata": {},
     "output_type": "execute_result"
    }
   ],
   "source": [
    "new_list_con = [n_list+1 for n_list in numbers]\n",
    "new_list_con"
   ]
  },
  {
   "cell_type": "code",
   "execution_count": 11,
   "id": "6b2f9941",
   "metadata": {},
   "outputs": [
    {
     "data": {
      "text/plain": [
       "[2, 4, 6]"
      ]
     },
     "execution_count": 11,
     "metadata": {},
     "output_type": "execute_result"
    }
   ],
   "source": [
    "n_list = [n*2 for n in range(1,5) if n < 3.5] # 1, 2, 3, 4\n",
    "n_list"
   ]
  },
  {
   "cell_type": "code",
   "execution_count": 12,
   "id": "a5d3c770",
   "metadata": {},
   "outputs": [
    {
     "data": {
      "text/plain": [
       "['1', '1', '2', '3', '5', '8', '13', '21', '34', '55']"
      ]
     },
     "execution_count": 12,
     "metadata": {},
     "output_type": "execute_result"
    }
   ],
   "source": [
    "list_of_strings = input().split(',')\n",
    "\n",
    "num_list = [num for num in list_of_strings]\n",
    "num_list"
   ]
  },
  {
   "cell_type": "code",
   "execution_count": null,
   "id": "33c5de79",
   "metadata": {},
   "outputs": [
    {
     "data": {
      "text/plain": [
       "[3, 6, 5, 8, 33, 12, 7, 4, 72, 2, 42, 13]"
      ]
     },
     "execution_count": 30,
     "metadata": {},
     "output_type": "execute_result"
    }
   ],
   "source": [
    "with open(\"file1.txt\", 'r') as file_1:\n",
    "    file_list_1 = [int(line.strip()) for line in file_1.readlines()]\n",
    "    \n",
    "file_list_1"
   ]
  },
  {
   "cell_type": "code",
   "execution_count": 44,
   "id": "74d1f989",
   "metadata": {},
   "outputs": [
    {
     "data": {
      "text/plain": [
       "[[3], [6], [13], [5], [7], [89], [12], [3], [33], [34], [1], [344], [42]]"
      ]
     },
     "execution_count": 44,
     "metadata": {},
     "output_type": "execute_result"
    }
   ],
   "source": [
    "with open(\"file2.txt\", \"r\") as file_2:\n",
    "    file_list_2 = [[int(i) for i in line.split()] for line in file_2.readlines()]\n",
    "    \n",
    "file_list_2"
   ]
  },
  {
   "cell_type": "code",
   "execution_count": 45,
   "id": "714a175c",
   "metadata": {},
   "outputs": [
    {
     "data": {
      "text/plain": [
       "[3, 6, 13, 5, 7, 89, 12, 3, 33, 34, 1, 344, 42]"
      ]
     },
     "execution_count": 45,
     "metadata": {},
     "output_type": "execute_result"
    }
   ],
   "source": [
    "file_list_2 = [item for sublist in file_list_2 for item in sublist]\n",
    "file_list_2"
   ]
  },
  {
   "cell_type": "code",
   "execution_count": 51,
   "id": "934b30b5",
   "metadata": {},
   "outputs": [
    {
     "data": {
      "text/plain": [
       "[3, 5, 6, 7, 12, 13, 33, 42]"
      ]
     },
     "execution_count": 51,
     "metadata": {},
     "output_type": "execute_result"
    }
   ],
   "source": [
    "common_list = sorted(set(file_list_1) & set(file_list_2))\n",
    "common_list"
   ]
  },
  {
   "cell_type": "code",
   "execution_count": 41,
   "id": "8e07530a",
   "metadata": {},
   "outputs": [
    {
     "data": {
      "text/plain": [
       "[3, 6, 13, 5, 7, 89, 12, 3, 33, 34, 1, 344, 42]"
      ]
     },
     "execution_count": 41,
     "metadata": {},
     "output_type": "execute_result"
    }
   ],
   "source": [
    "new_list_1 = [item   for sublist_1 in file_list_2   for item in sublist_1]\n",
    "#             (앞)            (가운데)                     (뒤)\n",
    "\n",
    "# 위 코드는 아래의 일반 for문과 100% 동일합니다.\n",
    "new_list = []\n",
    "for sublist in file_list_2:      # 1. (가운데) 첫 번째 for문이 먼저 실행됩니다.\n",
    "    for item in sublist:         # 2. (뒤) 두 번째 for문이 다음에 실행됩니다.\n",
    "        new_list.append(item)    # 3. (앞) 최종적으로 표현식이 실행되어 리스트에 추가됩니다.\n",
    "\n",
    "new_list"
   ]
  }
 ],
 "metadata": {
  "kernelspec": {
   "display_name": "Python 3",
   "language": "python",
   "name": "python3"
  },
  "language_info": {
   "codemirror_mode": {
    "name": "ipython",
    "version": 3
   },
   "file_extension": ".py",
   "mimetype": "text/x-python",
   "name": "python",
   "nbconvert_exporter": "python",
   "pygments_lexer": "ipython3",
   "version": "3.13.5"
  }
 },
 "nbformat": 4,
 "nbformat_minor": 5
}
