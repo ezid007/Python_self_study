{
 "cells": [
  {
   "cell_type": "code",
   "execution_count": null,
   "id": "6b6853d6",
   "metadata": {},
   "outputs": [],
   "source": [
    "a = 3.4\n",
    "b = 33.2\n",
    "\n",
    "print(f\"{a+b:.3f}\")"
   ]
  },
  {
   "cell_type": "code",
   "execution_count": null,
   "id": "1d2fe3fb",
   "metadata": {},
   "outputs": [],
   "source": [
    "import random\n",
    "\n",
    "def deal_card():\n",
    "    cards = [11, 2, 3, 4, 5, 6, 7, 8, 9, 10, 10, 10, 10]\n",
    "    card = random.choice(cards)\n",
    "    return card\n",
    "\n",
    "\n",
    "\n",
    "user_cards = []\n",
    "\n",
    "for _ in range(2):\n",
    "    user_cards += [deal_card()]\n",
    "aaa = [1.2,3.2]\n",
    "print(user_cards)\n",
    "\n",
    "ddd = sum(aaa)"
   ]
  },
  {
   "cell_type": "code",
   "execution_count": null,
   "id": "1747d94e",
   "metadata": {},
   "outputs": [],
   "source": [
    "import random\n",
    "\n",
    "def ace_card(deck: list):\n",
    "    if 11 in deck and 21 < sum(deck):\n",
    "        deck.remove(11)\n",
    "        deck.append(1)\n",
    "    \n",
    "def deal_card(cards: list, num: int, who: int):\n",
    "    for _ in range(num):\n",
    "        deck = random.choice(cards)\n",
    "        cards.remove(deck)\n",
    "        if who == 0:\n",
    "            my_deck.append(deck)\n",
    "        else:\n",
    "            com_deck.append(deck)\n",
    "        \n",
    "def blackjack(r_card: list, who: int):\n",
    "    global game_continue\n",
    "    if 10 in r_card and 11 in r_card:\n",
    "        game_continue = False\n",
    "        return \"Blackjack!!\"\n",
    "    elif who == 0:\n",
    "        return r_card\n",
    "    else:\n",
    "        return [r_card[0]]\n",
    "\n",
    "def game_over(deck: list, who: int):\n",
    "    global game_continue\n",
    "    if sum(deck) > 21 and who == 0:\n",
    "        game_continue = False\n",
    "        print('you lose\\n game over')\n",
    "        print(f'나의카드: {my_deck} 합: {sum(my_deck)}')\n",
    "        print(f'컴의카드: {com_deck} 합: {sum(com_deck)}')\n",
    "\n",
    "    elif sum(deck) > 21 and who == 1:\n",
    "        game_continue = False\n",
    "        print('you win\\n game over')\n",
    "        print(f'나의카드: {my_deck} 합: {sum(my_deck)}')\n",
    "        print(f'컴의카드: {com_deck} 합: {sum(com_deck)}')\n",
    "\n",
    "def compare(user_card: list, com_card: list):\n",
    "    global game_continue\n",
    "    if sum(user_card) > sum(com_card):\n",
    "        deal_card(cards, 1, 1)\n",
    "        ace_card(com_deck)\n",
    "        if sum(user_card) == sum(com_card):\n",
    "            game_continue = False\n",
    "            print('you lose\\n game over')\n",
    "            print(f'나의카드: {my_deck} 합: {sum(my_deck)}')\n",
    "            print(f'컴의카드: {com_deck} 합: {sum(com_deck)}')\n",
    "\n",
    "        game_over(cards, 1)\n",
    "    if sum(user_card) < sum(com_card) and sum(com_card) <=21:\n",
    "        print('you lose\\n game over')\n",
    "        print(f'나의카드: {my_deck} 합: {sum(my_deck)}')\n",
    "        print(f'컴의카드: {com_deck} 합: {sum(com_deck)}')\n",
    "\n",
    "        game_continue = False\n",
    "\n",
    "cards = [11, 2, 3, 4, 5, 6, 7, 8, 9, 10, 10, 10, 10]\n",
    "my_deck = []\n",
    "com_deck = []\n",
    "\n",
    "deal_card(cards, 2, 0)\n",
    "deal_card(cards, 2, 1)\n",
    "\n",
    "print(f'나의 카드: {blackjack(my_deck, 0)}')\n",
    "print(f'컴의 카드: {blackjack(com_deck, 1)}')\n",
    "\n",
    "game_continue = True\n",
    "\n",
    "while game_continue:\n",
    "    new_question = input(f'새로운 카드를 받겠습니까? [y/n]')\n",
    "\n",
    "    if new_question == 'y':\n",
    "        deal_card(cards, 1, 0)\n",
    "        ace_card(my_deck)\n",
    "        game_over(my_deck,0)\n",
    "        print(f'나의카드: {my_deck} 합: {sum(my_deck)}')\n",
    "\n",
    "    else:\n",
    "        compare(my_deck, com_deck)\n"
   ]
  },
  {
   "cell_type": "code",
   "execution_count": 2,
   "id": "605b02ea",
   "metadata": {},
   "outputs": [
    {
     "name": "stdout",
     "output_type": "stream",
     "text": [
      "2\n"
     ]
    }
   ],
   "source": [
    "def drink_posion():\n",
    "    player_health = 2\n",
    "    print(player_health)\n",
    "\n",
    "player_health = 10\n",
    "    \n",
    "drink_posion()"
   ]
  }
 ],
 "metadata": {
  "kernelspec": {
   "display_name": "Python 3",
   "language": "python",
   "name": "python3"
  },
  "language_info": {
   "codemirror_mode": {
    "name": "ipython",
    "version": 3
   },
   "file_extension": ".py",
   "mimetype": "text/x-python",
   "name": "python",
   "nbconvert_exporter": "python",
   "pygments_lexer": "ipython3",
   "version": "3.13.3"
  }
 },
 "nbformat": 4,
 "nbformat_minor": 5
}
