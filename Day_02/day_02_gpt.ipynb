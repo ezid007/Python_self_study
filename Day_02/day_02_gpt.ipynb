{
 "cells": [
  {
   "cell_type": "code",
   "execution_count": null,
   "id": "b4b42cf6",
   "metadata": {},
   "outputs": [
    {
     "name": "stdout",
     "output_type": "stream",
     "text": [
      "hello\n"
     ]
    }
   ],
   "source": [
    "def caesar(start_text, shift_amount, chipher_direction):\n",
    "    alphabet = 'abcdefghijklmnopqrstuvwxyz'\n",
    "    result = ''\n",
    "    \n",
    "    # 암호화(shift 양수) 또는 복호화(shift 음수) 처리\n",
    "    shift_amount = shift_amount if chipher_direction == '1' else -shift_amount\n",
    "    \n",
    "    for char in start_text:\n",
    "        if char in alphabet:\n",
    "            # 알파벳의 순환 처리\n",
    "            new_position = (alphabet.index(char) + shift_amount) % 26\n",
    "            result += alphabet[new_position]\n",
    "        else:\n",
    "            # 알파벳 외 문자는 그대로 추가\n",
    "            result += char\n",
    "    \n",
    "    return result\n",
    "\n",
    "# 테스트 데이터\n",
    "text = 'mjqqt'\n",
    "shift = 5\n",
    "in_de = input(\"1. 인코딩 2. 디코딩: \")\n",
    "\n",
    "# 입력값 검증\n",
    "if in_de not in ('1', '2'):\n",
    "    print(\"잘못된 입력입니다. '1' 또는 '2'를 입력하세요.\")\n",
    "else:\n",
    "    print(caesar(text, shift, in_de))"
   ]
  }
 ],
 "metadata": {
  "kernelspec": {
   "display_name": "Python 3",
   "language": "python",
   "name": "python3"
  },
  "language_info": {
   "codemirror_mode": {
    "name": "ipython",
    "version": 3
   },
   "file_extension": ".py",
   "mimetype": "text/x-python",
   "name": "python",
   "nbconvert_exporter": "python",
   "pygments_lexer": "ipython3",
   "version": "3.13.3"
  }
 },
 "nbformat": 4,
 "nbformat_minor": 5
}
