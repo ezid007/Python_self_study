{
 "cells": [
  {
   "cell_type": "code",
   "execution_count": null,
   "id": "caf433bb",
   "metadata": {},
   "outputs": [
    {
     "name": "stdout",
     "output_type": "stream",
     "text": [
      "Right\n",
      "Wrong\n",
      "Wrong\n",
      "Wrong\n",
      "Right\n",
      "Wrong\n",
      "Wrong\n"
     ]
    }
   ],
   "source": [
    "import random\n",
    "\n",
    "word_list = ['ardvark', 'baboon', 'camel']\n",
    "\n",
    "chosen_word = random.choice(word_list)\n",
    "\n",
    "guess = input('guess a letter: ').lower()\n",
    "\n",
    "for letter in chosen_word:\n",
    "    if letter == guess:\n",
    "        print(\"Right\")\n",
    "    else:\n",
    "        print(\"Wrong\")\n",
    "\n"
   ]
  },
  {
   "cell_type": "code",
   "execution_count": 3,
   "id": "e112a0ad",
   "metadata": {},
   "outputs": [
    {
     "ename": "TypeError",
     "evalue": "'str' object does not support item assignment",
     "output_type": "error",
     "traceback": [
      "\u001b[31m---------------------------------------------------------------------------\u001b[39m",
      "\u001b[31mTypeError\u001b[39m                                 Traceback (most recent call last)",
      "\u001b[36mCell\u001b[39m\u001b[36m \u001b[39m\u001b[32mIn[3]\u001b[39m\u001b[32m, line 10\u001b[39m\n\u001b[32m      7\u001b[39m answer_word = chosen_word\n\u001b[32m      9\u001b[39m \u001b[38;5;28;01mfor\u001b[39;00m i \u001b[38;5;129;01min\u001b[39;00m \u001b[38;5;28mrange\u001b[39m(\u001b[38;5;28mlen\u001b[39m(answer_word)):\n\u001b[32m---> \u001b[39m\u001b[32m10\u001b[39m     \u001b[43manswer_word\u001b[49m\u001b[43m[\u001b[49m\u001b[43mi\u001b[49m\u001b[43m]\u001b[49m = \u001b[33m'\u001b[39m\u001b[33m_\u001b[39m\u001b[33m'\u001b[39m\n\u001b[32m     14\u001b[39m guess = \u001b[38;5;28minput\u001b[39m(\u001b[33m'\u001b[39m\u001b[33m문자를 입력 하시오\u001b[39m\u001b[33m'\u001b[39m).lower()\n\u001b[32m     16\u001b[39m \u001b[38;5;28;01mfor\u001b[39;00m i \u001b[38;5;129;01min\u001b[39;00m chosen_word:\n",
      "\u001b[31mTypeError\u001b[39m: 'str' object does not support item assignment"
     ]
    }
   ],
   "source": [
    "import random\n",
    "\n",
    "word_list = ['ardvark', 'baboon', 'camel']\n",
    "\n",
    "chosen_word = random.choice(word_list)\n",
    "\n",
    "answer_word = chosen_word\n",
    "\n",
    "for i in range(len(answer_word)):\n",
    "    answer_word[i] = '_'\n",
    "    \n",
    "\n",
    "\n",
    "guess = input('문자를 입력 하시오').lower()\n",
    "\n",
    "for i in chosen_word:\n",
    "    if i == guess:\n",
    "        print('Right')\n",
    "    else:\n",
    "        print('wrong')\n",
    "\n"
   ]
  },
  {
   "cell_type": "code",
   "execution_count": 7,
   "id": "52927dde",
   "metadata": {},
   "outputs": [
    {
     "name": "stdout",
     "output_type": "stream",
     "text": [
      "hello 정인회\n",
      "What is it like in 성남?\n",
      "phone number is 010-0101-0010\n"
     ]
    }
   ],
   "source": [
    "def my_function(name='홍길동', location='서울', phone='010-1234-5678'):\n",
    "    print(f'hello {name}')\n",
    "    print(f'What is it like in {location}?')\n",
    "    print(f'phone number is {phone}')\n",
    "    \n",
    "my_function(location='성남', name='정인회',  phone='010-0101-0010')\n",
    "\n"
   ]
  },
  {
   "cell_type": "code",
   "execution_count": null,
   "id": "0db5dbbb",
   "metadata": {},
   "outputs": [
    {
     "name": "stdout",
     "output_type": "stream",
     "text": [
      "135\n"
     ]
    },
    {
     "data": {
      "text/plain": [
       "135"
      ]
     },
     "execution_count": 9,
     "metadata": {},
     "output_type": "execute_result"
    }
   ],
   "source": [
    "import math\n",
    "\n",
    "def paint_calc(height, width, cover):\n",
    "    number = math.ceil(height * width / cover)\n",
    "    print(number)\n",
    "    return number\n",
    "test_h = int(input())\n",
    "test_w = int(input())\n",
    "coverage = 5\n",
    "\n",
    "paint_calc(height=test_h, width=test_w, cover=coverage)"
   ]
  },
  {
   "cell_type": "code",
   "execution_count": null,
   "id": "8822d105",
   "metadata": {},
   "outputs": [],
   "source": [
    "def prime_checker(number):\n",
    "    \n",
    "    for i in range(2,number):\n",
    "        is_prime = True\n",
    "        for j in range(1,i):\n",
    "            if (j != 1) and (j != i):\n",
    "                if i % j != 0:\n",
    "                    continue\n",
    "                else:\n",
    "                    is_prime = False\n",
    "                    break\n",
    "        if is_prime == True:\n",
    "            prime_list.append(i)            \n",
    "\n",
    "prime_list = []\n",
    "\n",
    "prime_checker(100)\n",
    "print(f'{prime_list} 총:{len(prime_list)}개')"
   ]
  },
  {
   "cell_type": "code",
   "execution_count": 2,
   "id": "f40f1e67",
   "metadata": {},
   "outputs": [
    {
     "name": "stdout",
     "output_type": "stream",
     "text": [
      "[1, 2, 3, 4, 5]\n"
     ]
    }
   ],
   "source": [
    "string = \"1,2,3,4,5\"\n",
    "result = list(map(int, string.split(\",\")))\n",
    "print(result)"
   ]
  },
  {
   "cell_type": "code",
   "execution_count": 6,
   "id": "d28a2943",
   "metadata": {},
   "outputs": [
    {
     "data": {
      "text/plain": [
       "[3, 4, 5, 6, 7]"
      ]
     },
     "execution_count": 6,
     "metadata": {},
     "output_type": "execute_result"
    }
   ],
   "source": [
    "numbers = [1, 2, 3, 4, 5]\n",
    "\n",
    "result = list(map(lambda x: x+2 , numbers))\n",
    "result"
   ]
  },
  {
   "cell_type": "code",
   "execution_count": 13,
   "id": "938180d6",
   "metadata": {},
   "outputs": [
    {
     "name": "stdout",
     "output_type": "stream",
     "text": [
      "vwxyzqrstu\n"
     ]
    }
   ],
   "source": [
    "def caesar(start_text, shift_amount, chipher_direction):\n",
    "    my_str = ''\n",
    "    if chipher_direction == '1':\n",
    "        for char in start_text:\n",
    "            a = alphabet.index(char)\n",
    "            if a+shift_amount < 26:\n",
    "                my_str += alphabet[a+shift_amount]\n",
    "            else:\n",
    "                my_str += alphabet[a+shift_amount-26]\n",
    "    \n",
    "    elif chipher_direction == '2':\n",
    "        for char in start_text:\n",
    "            a = alphabet.index(char)\n",
    "            if a-shift_amount < 0:\n",
    "                my_str += alphabet[a-shift_amount+26]\n",
    "            else:\n",
    "                my_str += alphabet[a-shift_amount]\n",
    "    \n",
    "    return my_str\n",
    "\n",
    "alphabet = ['a','b','c','d','e','f','g','h','i','j','k','l','m','n','o','p','q','r','s','t','u','v','w','x','y','z']\n",
    "\n",
    "# direction = input(\"Type 'encode' to encrypt, type 'decode' to decrypt:\\n\")\n",
    "text = 'abcdevwxyz'\n",
    "shift = 5\n",
    "\n",
    "in_de = input(f\"1.인코딩 2.디코딩 : \")\n",
    "\n",
    "print(caesar(text, shift, in_de))\n",
    "\n"
   ]
  },
  {
   "cell_type": "code",
   "execution_count": null,
   "id": "e4cf4523",
   "metadata": {},
   "outputs": [],
   "source": [
    "def encrypt(plain_text, shift_amount):\n",
    "    chpher_text = \"\"\n",
    "    for letter in plain_text:\n",
    "        position = alphabet.index(letter)\n",
    "        new_position = position + shift_amount\n",
    "        new_letter = alphabet[new_position]\n",
    "        chipher_text += new_letter\n",
    "    print(f'The encoded text is {chpher_text}')\n"
   ]
  },
  {
   "cell_type": "code",
   "execution_count": 4,
   "id": "26ad4464",
   "metadata": {},
   "outputs": [],
   "source": [
    "a = 'a'\n",
    "b = 'b'\n",
    "c = 'c'\n",
    "\n",
    "all = ''\n",
    "\n",
    "all += a\n",
    "\n",
    "all += b\n",
    "\n",
    "all += c\n"
   ]
  },
  {
   "cell_type": "code",
   "execution_count": null,
   "id": "61021be1",
   "metadata": {},
   "outputs": [],
   "source": []
  }
 ],
 "metadata": {
  "kernelspec": {
   "display_name": "Python 3",
   "language": "python",
   "name": "python3"
  },
  "language_info": {
   "codemirror_mode": {
    "name": "ipython",
    "version": 3
   },
   "file_extension": ".py",
   "mimetype": "text/x-python",
   "name": "python",
   "nbconvert_exporter": "python",
   "pygments_lexer": "ipython3",
   "version": "3.13.3"
  }
 },
 "nbformat": 4,
 "nbformat_minor": 5
}
